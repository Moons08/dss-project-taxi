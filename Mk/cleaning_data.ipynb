{
 "cells": [
  {
   "cell_type": "markdown",
   "metadata": {},
   "source": [
    "# cleaning data\n",
    "- to use conveniently\n",
    "- need to install holidays\n",
    "    - `pip install holidays` (https://github.com/dr-prodigy/python-holidays)"
   ]
  },
  {
   "cell_type": "code",
   "execution_count": 1,
   "metadata": {
    "collapsed": true
   },
   "outputs": [],
   "source": [
    "import datetime as dt\n",
    "import holidays\n",
    "from taxi_pakage import haversine_np"
   ]
  },
  {
   "cell_type": "code",
   "execution_count": 2,
   "metadata": {
    "collapsed": true
   },
   "outputs": [],
   "source": [
    "taxi = pd.read_csv('train.csv')"
   ]
  },
  {
   "cell_type": "code",
   "execution_count": 4,
   "metadata": {
    "collapsed": true
   },
   "outputs": [],
   "source": [
    "taxi['dist'] = haversine_np(taxi['pickup_longitude'], taxi['pickup_latitude'], taxi['dropoff_longitude'], taxi['dropoff_latitude'])"
   ]
  },
  {
   "cell_type": "code",
   "execution_count": 5,
   "metadata": {
    "collapsed": true
   },
   "outputs": [],
   "source": [
    "datezero = dt.datetime(2016, 1, 1, 0, 0, 1) # 기준\n",
    "def strptime(x):\n",
    "    return dt.datetime.strptime(x, \"%Y-%m-%d %H:%M:%S\")\n",
    "def date_to_zero(x):\n",
    "    return int((x-datezero).days)\n",
    "def time_to_zero(x):\n",
    "    return int((x-datezero).seconds)\n",
    "def week_num(x):\n",
    "    return int(x.weekday())"
   ]
  },
  {
   "cell_type": "code",
   "execution_count": 6,
   "metadata": {
    "collapsed": true
   },
   "outputs": [],
   "source": [
    "us_holidays = holidays.US(state='NY', years=2016)\n",
    "def holiday(x):\n",
    "    if x in us_holidays: \n",
    "        return 1\n",
    "    else: \n",
    "        x = x.weekday()\n",
    "    if x > 4: \n",
    "        return 1\n",
    "    else: \n",
    "        return 0\n",
    "    \n",
    "def holiday_Fri(x): #with Friday\n",
    "    if x in us_holidays: \n",
    "        return 1\n",
    "    else: \n",
    "        x = x.weekday()\n",
    "    if x > 3:\n",
    "        return 1\n",
    "    else: \n",
    "        return 0"
   ]
  },
  {
   "cell_type": "code",
   "execution_count": 7,
   "metadata": {
    "collapsed": true
   },
   "outputs": [],
   "source": [
    "taxi['id'] = taxi['id'].apply(lambda x: x[2:])\n",
    "taxi['store_and_fwd_flag'] = taxi['store_and_fwd_flag'].apply(lambda x: 0 if x == 'N' else 1)\n",
    "\n",
    "taxi['pickup_datetime'] = taxi['pickup_datetime'].apply(strptime)\n",
    "taxi['dropoff_datetime'] = taxi['dropoff_datetime'].apply(strptime)\n",
    "taxi['pick_date'] = taxi['pickup_datetime'].apply(date_to_zero)\n",
    "taxi['pick_time'] = taxi['pickup_datetime'].apply(time_to_zero)\n",
    "taxi['drop_time'] = taxi['dropoff_datetime'].apply(time_to_zero)\n",
    "\n",
    "taxi['holiday'] = taxi['pickup_datetime'].apply(holiday)\n",
    "taxi['holiday_Fri'] = taxi['pickup_datetime'].apply(holiday_Fri)\n",
    "taxi['weekday'] = taxi['pickup_datetime'].apply(week_num)\n",
    "\n",
    "\n",
    "# taxi['velo'] = taxi['dist']/taxi['trip_duration']*3600 #km/h"
   ]
  },
  {
   "cell_type": "code",
   "execution_count": 8,
   "metadata": {
    "collapsed": true
   },
   "outputs": [],
   "source": [
    "temp = taxi['trip_duration'] # for easy slicing\n",
    "taxi = taxi.drop(['pickup_datetime', 'dropoff_datetime', 'trip_duration'], axis=1)\n",
    "taxi['trip_duration'] = temp"
   ]
  },
  {
   "cell_type": "code",
   "execution_count": 9,
   "metadata": {},
   "outputs": [
    {
     "data": {
      "text/html": [
       "<div>\n",
       "<style>\n",
       "    .dataframe thead tr:only-child th {\n",
       "        text-align: right;\n",
       "    }\n",
       "\n",
       "    .dataframe thead th {\n",
       "        text-align: left;\n",
       "    }\n",
       "\n",
       "    .dataframe tbody tr th {\n",
       "        vertical-align: top;\n",
       "    }\n",
       "</style>\n",
       "<table border=\"1\" class=\"dataframe\">\n",
       "  <thead>\n",
       "    <tr style=\"text-align: right;\">\n",
       "      <th></th>\n",
       "      <th>id</th>\n",
       "      <th>vendor_id</th>\n",
       "      <th>passenger_count</th>\n",
       "      <th>pickup_longitude</th>\n",
       "      <th>pickup_latitude</th>\n",
       "      <th>dropoff_longitude</th>\n",
       "      <th>dropoff_latitude</th>\n",
       "      <th>store_and_fwd_flag</th>\n",
       "      <th>dist</th>\n",
       "      <th>pick_date</th>\n",
       "      <th>pick_time</th>\n",
       "      <th>drop_time</th>\n",
       "      <th>holiday</th>\n",
       "      <th>holiday_Fri</th>\n",
       "      <th>weekday</th>\n",
       "      <th>trip_duration</th>\n",
       "    </tr>\n",
       "  </thead>\n",
       "  <tbody>\n",
       "    <tr>\n",
       "      <th>1458639</th>\n",
       "      <td>2376096</td>\n",
       "      <td>2</td>\n",
       "      <td>4</td>\n",
       "      <td>-73.982201</td>\n",
       "      <td>40.745522</td>\n",
       "      <td>-73.994911</td>\n",
       "      <td>40.740170</td>\n",
       "      <td>0</td>\n",
       "      <td>1.224311</td>\n",
       "      <td>98</td>\n",
       "      <td>48663</td>\n",
       "      <td>49441</td>\n",
       "      <td>0</td>\n",
       "      <td>1</td>\n",
       "      <td>4</td>\n",
       "      <td>778</td>\n",
       "    </tr>\n",
       "    <tr>\n",
       "      <th>1458640</th>\n",
       "      <td>1049543</td>\n",
       "      <td>1</td>\n",
       "      <td>1</td>\n",
       "      <td>-74.000946</td>\n",
       "      <td>40.747379</td>\n",
       "      <td>-73.970184</td>\n",
       "      <td>40.796547</td>\n",
       "      <td>0</td>\n",
       "      <td>6.046037</td>\n",
       "      <td>9</td>\n",
       "      <td>27314</td>\n",
       "      <td>27969</td>\n",
       "      <td>1</td>\n",
       "      <td>1</td>\n",
       "      <td>6</td>\n",
       "      <td>655</td>\n",
       "    </tr>\n",
       "    <tr>\n",
       "      <th>1458641</th>\n",
       "      <td>2304944</td>\n",
       "      <td>2</td>\n",
       "      <td>1</td>\n",
       "      <td>-73.959129</td>\n",
       "      <td>40.768799</td>\n",
       "      <td>-74.004433</td>\n",
       "      <td>40.707371</td>\n",
       "      <td>0</td>\n",
       "      <td>7.819693</td>\n",
       "      <td>112</td>\n",
       "      <td>25060</td>\n",
       "      <td>25824</td>\n",
       "      <td>0</td>\n",
       "      <td>1</td>\n",
       "      <td>4</td>\n",
       "      <td>764</td>\n",
       "    </tr>\n",
       "    <tr>\n",
       "      <th>1458642</th>\n",
       "      <td>2714485</td>\n",
       "      <td>1</td>\n",
       "      <td>1</td>\n",
       "      <td>-73.982079</td>\n",
       "      <td>40.749062</td>\n",
       "      <td>-73.974632</td>\n",
       "      <td>40.757107</td>\n",
       "      <td>0</td>\n",
       "      <td>1.091878</td>\n",
       "      <td>4</td>\n",
       "      <td>57385</td>\n",
       "      <td>57758</td>\n",
       "      <td>0</td>\n",
       "      <td>0</td>\n",
       "      <td>1</td>\n",
       "      <td>373</td>\n",
       "    </tr>\n",
       "    <tr>\n",
       "      <th>1458643</th>\n",
       "      <td>1209952</td>\n",
       "      <td>1</td>\n",
       "      <td>1</td>\n",
       "      <td>-73.979538</td>\n",
       "      <td>40.781750</td>\n",
       "      <td>-73.972809</td>\n",
       "      <td>40.790585</td>\n",
       "      <td>0</td>\n",
       "      <td>1.133330</td>\n",
       "      <td>95</td>\n",
       "      <td>53064</td>\n",
       "      <td>53262</td>\n",
       "      <td>0</td>\n",
       "      <td>0</td>\n",
       "      <td>1</td>\n",
       "      <td>198</td>\n",
       "    </tr>\n",
       "  </tbody>\n",
       "</table>\n",
       "</div>"
      ],
      "text/plain": [
       "              id  vendor_id  passenger_count  pickup_longitude  \\\n",
       "1458639  2376096          2                4        -73.982201   \n",
       "1458640  1049543          1                1        -74.000946   \n",
       "1458641  2304944          2                1        -73.959129   \n",
       "1458642  2714485          1                1        -73.982079   \n",
       "1458643  1209952          1                1        -73.979538   \n",
       "\n",
       "         pickup_latitude  dropoff_longitude  dropoff_latitude  \\\n",
       "1458639        40.745522         -73.994911         40.740170   \n",
       "1458640        40.747379         -73.970184         40.796547   \n",
       "1458641        40.768799         -74.004433         40.707371   \n",
       "1458642        40.749062         -73.974632         40.757107   \n",
       "1458643        40.781750         -73.972809         40.790585   \n",
       "\n",
       "         store_and_fwd_flag      dist  pick_date  pick_time  drop_time  \\\n",
       "1458639                   0  1.224311         98      48663      49441   \n",
       "1458640                   0  6.046037          9      27314      27969   \n",
       "1458641                   0  7.819693        112      25060      25824   \n",
       "1458642                   0  1.091878          4      57385      57758   \n",
       "1458643                   0  1.133330         95      53064      53262   \n",
       "\n",
       "         holiday  holiday_Fri  weekday  trip_duration  \n",
       "1458639        0            1        4            778  \n",
       "1458640        1            1        6            655  \n",
       "1458641        0            1        4            764  \n",
       "1458642        0            0        1            373  \n",
       "1458643        0            0        1            198  "
      ]
     },
     "execution_count": 9,
     "metadata": {},
     "output_type": "execute_result"
    }
   ],
   "source": [
    "taxi.tail()"
   ]
  },
  {
   "cell_type": "code",
   "execution_count": 10,
   "metadata": {
    "collapsed": true
   },
   "outputs": [],
   "source": [
    "taxi.to_csv(\"edited_taxi.csv\", index = False)"
   ]
  }
 ],
 "metadata": {
  "kernelspec": {
   "display_name": "Python 3",
   "language": "python",
   "name": "python3"
  },
  "language_info": {
   "codemirror_mode": {
    "name": "ipython",
    "version": 3
   },
   "file_extension": ".py",
   "mimetype": "text/x-python",
   "name": "python",
   "nbconvert_exporter": "python",
   "pygments_lexer": "ipython3",
   "version": "3.6.4"
  }
 },
 "nbformat": 4,
 "nbformat_minor": 2
}
