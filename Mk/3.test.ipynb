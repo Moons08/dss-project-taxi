{
 "cells": [
  {
   "cell_type": "code",
   "execution_count": 1,
   "metadata": {},
   "outputs": [],
   "source": [
    "%matplotlib inline\n",
    "from taxi_pakage import *\n",
    "taxi = pd.read_csv(\"edited_train.csv\")"
   ]
  },
  {
   "cell_type": "code",
   "execution_count": 2,
   "metadata": {},
   "outputs": [],
   "source": [
    "# 날씨 데이터 생성\n",
    "weather_event = ['20160110', '20160113', '20160117', '20160123', '20160205', '20160208', '20160215', '20160216',\n",
    "                 '20160224', '20160225', '20160314', '20160315', '20160328', '20160329', '20160403', '20160404',\n",
    "                 '20160530', '20160628']\n",
    "\n",
    "weather_event = pd.Series(pd.to_datetime(weather_event, format = '%Y%m%d')).dt.date\n",
    "weather_event = weather_event.astype('<U32')\n",
    "weather_event = list(weather_event)\n",
    "\n",
    "taxi[\"y-m-d\"] = pd.to_datetime(taxi[\"pickup_datetime\"]).apply(lambda x: x.strftime(\"%Y-%m-%d\"))\n",
    "taxi[\"extreme_weather\"] = taxi[\"y-m-d\"].apply(lambda x: 1 if x in weather_event else 0)\n",
    "taxi[\"weather_event\"] = taxi[\"extreme_weather\"] # 날씨 (1:자연재해,  0:자연재해X)\n",
    "taxi.drop(['y-m-d', 'extreme_weather'], axis=1, inplace=True)"
   ]
  },
  {
   "cell_type": "code",
   "execution_count": 3,
   "metadata": {},
   "outputs": [],
   "source": [
    "taxi['sqrt_log_dist'] = taxi['dist'].apply(lambda x: np.sqrt(np.log1p(x)))\n",
    "taxi['log_duration'] = taxi['trip_duration'].apply(lambda x: np.log1p(x))\n",
    "taxi['velo'] = taxi['dist']/taxi['trip_duration']*3600 # 시속\n",
    "taxi = taxi[taxi['trip_duration'] < 1500000].reset_index(drop=True)\n",
    "taxi = taxi[taxi['velo']<100]"
   ]
  },
  {
   "cell_type": "code",
   "execution_count": 4,
   "metadata": {},
   "outputs": [],
   "source": [
    "taxi = taxi[taxi['trip_duration'] < 1500000].reset_index(drop=True)\n",
    "taxi = taxi[taxi['velo']<100]"
   ]
  },
  {
   "cell_type": "code",
   "execution_count": 5,
   "metadata": {},
   "outputs": [],
   "source": [
    "results = pd.DataFrame(columns = [\"R-square\", \"AIC\", \"BIC\", \"Cond.No.\", \"Pb(Fstatics)\", \"Pb(omnibus)\", \"Pb(jb)\", \"Dub-Wat\",\"Remarks\"])\n",
    "model1 = sm.OLS.from_formula(\"log_duration ~ \\\n",
    "                               scale(sqrt_log_dist)*C(vendor_id)\\\n",
    "                             + scale(sqrt_log_dist)*C(work)\\\n",
    "                             + C(weekday)\\\n",
    "                             + C(hour)\\\n",
    "                             + scale(sqrt_log_dist)*scale(weather_event)\\\n",
    "                             + scale(month)\\\n",
    "                             +0\", data = taxi)\n",
    "result = model1.fit()\n",
    "storage(result, results, 'basic')"
   ]
  },
  {
   "cell_type": "code",
   "execution_count": 7,
   "metadata": {},
   "outputs": [],
   "source": [
    "taxi_filtered, dropped = erase_outlier_np(result, taxi, category=True, dropped=True)\n",
    "model2 = sm.OLS.from_formula(\"log_duration ~ \\\n",
    "                               scale(sqrt_log_dist)*C(vendor_id)\\\n",
    "                             + scale(sqrt_log_dist)*C(work)\\\n",
    "                             + C(weekday)\\\n",
    "                             + C(hour)\\\n",
    "                             + scale(sqrt_log_dist)*scale(weather_event)\\\n",
    "                             + scale(month)\\\n",
    "                             +0\", data = taxi_filtered)\n",
    "result2 = model2.fit()\n",
    "storage(result2, results, 'w/o_outlier')"
   ]
  },
  {
   "cell_type": "code",
   "execution_count": 8,
   "metadata": {
    "collapsed": true
   },
   "outputs": [
    {
     "data": {
      "text/html": [
       "<table class=\"simpletable\">\n",
       "<caption>OLS Regression Results</caption>\n",
       "<tr>\n",
       "  <th>Dep. Variable:</th>      <td>log_duration</td>   <th>  R-squared:         </th>  <td>   0.738</td>  \n",
       "</tr>\n",
       "<tr>\n",
       "  <th>Model:</th>                   <td>OLS</td>       <th>  Adj. R-squared:    </th>  <td>   0.738</td>  \n",
       "</tr>\n",
       "<tr>\n",
       "  <th>Method:</th>             <td>Least Squares</td>  <th>  F-statistic:       </th>  <td>1.073e+05</td> \n",
       "</tr>\n",
       "<tr>\n",
       "  <th>Date:</th>             <td>Sun, 18 Mar 2018</td> <th>  Prob (F-statistic):</th>   <td>  0.00</td>   \n",
       "</tr>\n",
       "<tr>\n",
       "  <th>Time:</th>                 <td>21:16:16</td>     <th>  Log-Likelihood:    </th> <td>-5.6696e+05</td>\n",
       "</tr>\n",
       "<tr>\n",
       "  <th>No. Observations:</th>      <td>1408149</td>     <th>  AIC:               </th>  <td>1.134e+06</td> \n",
       "</tr>\n",
       "<tr>\n",
       "  <th>Df Residuals:</th>          <td>1408111</td>     <th>  BIC:               </th>  <td>1.134e+06</td> \n",
       "</tr>\n",
       "<tr>\n",
       "  <th>Df Model:</th>              <td>    37</td>      <th>                     </th>      <td> </td>     \n",
       "</tr>\n",
       "<tr>\n",
       "  <th>Covariance Type:</th>      <td>nonrobust</td>    <th>                     </th>      <td> </td>     \n",
       "</tr>\n",
       "</table>\n",
       "<table class=\"simpletable\">\n",
       "<tr>\n",
       "                      <td></td>                         <th>coef</th>     <th>std err</th>      <th>t</th>      <th>P>|t|</th>  <th>[0.025</th>    <th>0.975]</th>  \n",
       "</tr>\n",
       "<tr>\n",
       "  <th>C(vendor_id)[1]</th>                           <td>    6.2023</td> <td>    0.002</td> <td> 3253.001</td> <td> 0.000</td> <td>    6.199</td> <td>    6.206</td>\n",
       "</tr>\n",
       "<tr>\n",
       "  <th>C(vendor_id)[2]</th>                           <td>    6.2040</td> <td>    0.002</td> <td> 3265.776</td> <td> 0.000</td> <td>    6.200</td> <td>    6.208</td>\n",
       "</tr>\n",
       "<tr>\n",
       "  <th>C(work)[T.1]</th>                              <td>    0.2442</td> <td>    0.001</td> <td>  165.791</td> <td> 0.000</td> <td>    0.241</td> <td>    0.247</td>\n",
       "</tr>\n",
       "<tr>\n",
       "  <th>C(weekday)[T.1]</th>                           <td>    0.0924</td> <td>    0.001</td> <td>   78.092</td> <td> 0.000</td> <td>    0.090</td> <td>    0.095</td>\n",
       "</tr>\n",
       "<tr>\n",
       "  <th>C(weekday)[T.2]</th>                           <td>    0.1162</td> <td>    0.001</td> <td>   98.355</td> <td> 0.000</td> <td>    0.114</td> <td>    0.119</td>\n",
       "</tr>\n",
       "<tr>\n",
       "  <th>C(weekday)[T.3]</th>                           <td>    0.1286</td> <td>    0.001</td> <td>  109.089</td> <td> 0.000</td> <td>    0.126</td> <td>    0.131</td>\n",
       "</tr>\n",
       "<tr>\n",
       "  <th>C(weekday)[T.4]</th>                           <td>    0.1140</td> <td>    0.001</td> <td>   96.960</td> <td> 0.000</td> <td>    0.112</td> <td>    0.116</td>\n",
       "</tr>\n",
       "<tr>\n",
       "  <th>C(weekday)[T.5]</th>                           <td>    0.1782</td> <td>    0.002</td> <td>  115.183</td> <td> 0.000</td> <td>    0.175</td> <td>    0.181</td>\n",
       "</tr>\n",
       "<tr>\n",
       "  <th>C(weekday)[T.6]</th>                           <td>    0.0862</td> <td>    0.002</td> <td>   54.624</td> <td> 0.000</td> <td>    0.083</td> <td>    0.089</td>\n",
       "</tr>\n",
       "<tr>\n",
       "  <th>C(hour)[T.1]</th>                              <td>   -0.0519</td> <td>    0.002</td> <td>  -20.955</td> <td> 0.000</td> <td>   -0.057</td> <td>   -0.047</td>\n",
       "</tr>\n",
       "<tr>\n",
       "  <th>C(hour)[T.2]</th>                              <td>   -0.0830</td> <td>    0.003</td> <td>  -30.088</td> <td> 0.000</td> <td>   -0.088</td> <td>   -0.078</td>\n",
       "</tr>\n",
       "<tr>\n",
       "  <th>C(hour)[T.3]</th>                              <td>   -0.1215</td> <td>    0.003</td> <td>  -39.498</td> <td> 0.000</td> <td>   -0.128</td> <td>   -0.115</td>\n",
       "</tr>\n",
       "<tr>\n",
       "  <th>C(hour)[T.4]</th>                              <td>   -0.1773</td> <td>    0.003</td> <td>  -51.256</td> <td> 0.000</td> <td>   -0.184</td> <td>   -0.171</td>\n",
       "</tr>\n",
       "<tr>\n",
       "  <th>C(hour)[T.5]</th>                              <td>   -0.2627</td> <td>    0.004</td> <td>  -74.538</td> <td> 0.000</td> <td>   -0.270</td> <td>   -0.256</td>\n",
       "</tr>\n",
       "<tr>\n",
       "  <th>C(hour)[T.6]</th>                              <td>   -0.1673</td> <td>    0.003</td> <td>  -63.946</td> <td> 0.000</td> <td>   -0.172</td> <td>   -0.162</td>\n",
       "</tr>\n",
       "<tr>\n",
       "  <th>C(hour)[T.7]</th>                              <td>    0.0738</td> <td>    0.002</td> <td>   32.401</td> <td> 0.000</td> <td>    0.069</td> <td>    0.078</td>\n",
       "</tr>\n",
       "<tr>\n",
       "  <th>C(hour)[T.8]</th>                              <td>    0.0500</td> <td>    0.002</td> <td>   21.214</td> <td> 0.000</td> <td>    0.045</td> <td>    0.055</td>\n",
       "</tr>\n",
       "<tr>\n",
       "  <th>C(hour)[T.9]</th>                              <td>    0.1000</td> <td>    0.002</td> <td>   42.787</td> <td> 0.000</td> <td>    0.095</td> <td>    0.105</td>\n",
       "</tr>\n",
       "<tr>\n",
       "  <th>C(hour)[T.10]</th>                             <td>    0.1046</td> <td>    0.002</td> <td>   44.788</td> <td> 0.000</td> <td>    0.100</td> <td>    0.109</td>\n",
       "</tr>\n",
       "<tr>\n",
       "  <th>C(hour)[T.11]</th>                             <td>    0.1385</td> <td>    0.002</td> <td>   59.944</td> <td> 0.000</td> <td>    0.134</td> <td>    0.143</td>\n",
       "</tr>\n",
       "<tr>\n",
       "  <th>C(hour)[T.12]</th>                             <td>    0.1510</td> <td>    0.002</td> <td>   65.969</td> <td> 0.000</td> <td>    0.147</td> <td>    0.155</td>\n",
       "</tr>\n",
       "<tr>\n",
       "  <th>C(hour)[T.13]</th>                             <td>    0.1402</td> <td>    0.002</td> <td>   61.186</td> <td> 0.000</td> <td>    0.136</td> <td>    0.145</td>\n",
       "</tr>\n",
       "<tr>\n",
       "  <th>C(hour)[T.14]</th>                             <td>    0.1549</td> <td>    0.002</td> <td>   67.998</td> <td> 0.000</td> <td>    0.150</td> <td>    0.159</td>\n",
       "</tr>\n",
       "<tr>\n",
       "  <th>C(hour)[T.15]</th>                             <td>    0.1601</td> <td>    0.002</td> <td>   69.900</td> <td> 0.000</td> <td>    0.156</td> <td>    0.165</td>\n",
       "</tr>\n",
       "<tr>\n",
       "  <th>C(hour)[T.16]</th>                             <td>    0.1287</td> <td>    0.002</td> <td>   55.077</td> <td> 0.000</td> <td>    0.124</td> <td>    0.133</td>\n",
       "</tr>\n",
       "<tr>\n",
       "  <th>C(hour)[T.17]</th>                             <td>    0.1198</td> <td>    0.002</td> <td>   52.845</td> <td> 0.000</td> <td>    0.115</td> <td>    0.124</td>\n",
       "</tr>\n",
       "<tr>\n",
       "  <th>C(hour)[T.18]</th>                             <td>    0.0975</td> <td>    0.002</td> <td>   44.146</td> <td> 0.000</td> <td>    0.093</td> <td>    0.102</td>\n",
       "</tr>\n",
       "<tr>\n",
       "  <th>C(hour)[T.19]</th>                             <td>    0.0154</td> <td>    0.002</td> <td>    6.985</td> <td> 0.000</td> <td>    0.011</td> <td>    0.020</td>\n",
       "</tr>\n",
       "<tr>\n",
       "  <th>C(hour)[T.20]</th>                             <td>   -0.0724</td> <td>    0.002</td> <td>  -32.359</td> <td> 0.000</td> <td>   -0.077</td> <td>   -0.068</td>\n",
       "</tr>\n",
       "<tr>\n",
       "  <th>C(hour)[T.21]</th>                             <td>    0.0884</td> <td>    0.002</td> <td>   43.029</td> <td> 0.000</td> <td>    0.084</td> <td>    0.092</td>\n",
       "</tr>\n",
       "<tr>\n",
       "  <th>C(hour)[T.22]</th>                             <td>    0.0850</td> <td>    0.002</td> <td>   41.078</td> <td> 0.000</td> <td>    0.081</td> <td>    0.089</td>\n",
       "</tr>\n",
       "<tr>\n",
       "  <th>C(hour)[T.23]</th>                             <td>    0.0447</td> <td>    0.002</td> <td>   20.999</td> <td> 0.000</td> <td>    0.041</td> <td>    0.049</td>\n",
       "</tr>\n",
       "<tr>\n",
       "  <th>scale(sqrt_log_dist)</th>                      <td>    0.6042</td> <td>    0.001</td> <td> 1125.296</td> <td> 0.000</td> <td>    0.603</td> <td>    0.605</td>\n",
       "</tr>\n",
       "<tr>\n",
       "  <th>scale(sqrt_log_dist):C(vendor_id)[T.2]</th>    <td>   -0.0098</td> <td>    0.001</td> <td>  -15.949</td> <td> 0.000</td> <td>   -0.011</td> <td>   -0.009</td>\n",
       "</tr>\n",
       "<tr>\n",
       "  <th>scale(sqrt_log_dist):C(work)[T.1]</th>         <td>    0.0104</td> <td>    0.001</td> <td>   16.851</td> <td> 0.000</td> <td>    0.009</td> <td>    0.012</td>\n",
       "</tr>\n",
       "<tr>\n",
       "  <th>scale(weather_event)</th>                      <td>   -0.0036</td> <td>    0.000</td> <td>  -11.221</td> <td> 0.000</td> <td>   -0.004</td> <td>   -0.003</td>\n",
       "</tr>\n",
       "<tr>\n",
       "  <th>scale(sqrt_log_dist):scale(weather_event)</th> <td>   -0.0022</td> <td>    0.000</td> <td>   -7.260</td> <td> 0.000</td> <td>   -0.003</td> <td>   -0.002</td>\n",
       "</tr>\n",
       "<tr>\n",
       "  <th>scale(month)</th>                              <td>    0.0266</td> <td>    0.000</td> <td>   85.769</td> <td> 0.000</td> <td>    0.026</td> <td>    0.027</td>\n",
       "</tr>\n",
       "</table>\n",
       "<table class=\"simpletable\">\n",
       "<tr>\n",
       "  <th>Omnibus:</th>       <td>228.113</td> <th>  Durbin-Watson:     </th> <td>   1.998</td>\n",
       "</tr>\n",
       "<tr>\n",
       "  <th>Prob(Omnibus):</th> <td> 0.000</td>  <th>  Jarque-Bera (JB):  </th> <td> 215.685</td>\n",
       "</tr>\n",
       "<tr>\n",
       "  <th>Skew:</th>          <td>-0.007</td>  <th>  Prob(JB):          </th> <td>1.46e-47</td>\n",
       "</tr>\n",
       "<tr>\n",
       "  <th>Kurtosis:</th>      <td> 2.941</td>  <th>  Cond. No.          </th> <td>    35.3</td>\n",
       "</tr>\n",
       "</table>"
      ],
      "text/plain": [
       "<class 'statsmodels.iolib.summary.Summary'>\n",
       "\"\"\"\n",
       "                            OLS Regression Results                            \n",
       "==============================================================================\n",
       "Dep. Variable:           log_duration   R-squared:                       0.738\n",
       "Model:                            OLS   Adj. R-squared:                  0.738\n",
       "Method:                 Least Squares   F-statistic:                 1.073e+05\n",
       "Date:                Sun, 18 Mar 2018   Prob (F-statistic):               0.00\n",
       "Time:                        21:16:16   Log-Likelihood:            -5.6696e+05\n",
       "No. Observations:             1408149   AIC:                         1.134e+06\n",
       "Df Residuals:                 1408111   BIC:                         1.134e+06\n",
       "Df Model:                          37                                         \n",
       "Covariance Type:            nonrobust                                         \n",
       "=============================================================================================================\n",
       "                                                coef    std err          t      P>|t|      [0.025      0.975]\n",
       "-------------------------------------------------------------------------------------------------------------\n",
       "C(vendor_id)[1]                               6.2023      0.002   3253.001      0.000       6.199       6.206\n",
       "C(vendor_id)[2]                               6.2040      0.002   3265.776      0.000       6.200       6.208\n",
       "C(work)[T.1]                                  0.2442      0.001    165.791      0.000       0.241       0.247\n",
       "C(weekday)[T.1]                               0.0924      0.001     78.092      0.000       0.090       0.095\n",
       "C(weekday)[T.2]                               0.1162      0.001     98.355      0.000       0.114       0.119\n",
       "C(weekday)[T.3]                               0.1286      0.001    109.089      0.000       0.126       0.131\n",
       "C(weekday)[T.4]                               0.1140      0.001     96.960      0.000       0.112       0.116\n",
       "C(weekday)[T.5]                               0.1782      0.002    115.183      0.000       0.175       0.181\n",
       "C(weekday)[T.6]                               0.0862      0.002     54.624      0.000       0.083       0.089\n",
       "C(hour)[T.1]                                 -0.0519      0.002    -20.955      0.000      -0.057      -0.047\n",
       "C(hour)[T.2]                                 -0.0830      0.003    -30.088      0.000      -0.088      -0.078\n",
       "C(hour)[T.3]                                 -0.1215      0.003    -39.498      0.000      -0.128      -0.115\n",
       "C(hour)[T.4]                                 -0.1773      0.003    -51.256      0.000      -0.184      -0.171\n",
       "C(hour)[T.5]                                 -0.2627      0.004    -74.538      0.000      -0.270      -0.256\n",
       "C(hour)[T.6]                                 -0.1673      0.003    -63.946      0.000      -0.172      -0.162\n",
       "C(hour)[T.7]                                  0.0738      0.002     32.401      0.000       0.069       0.078\n",
       "C(hour)[T.8]                                  0.0500      0.002     21.214      0.000       0.045       0.055\n",
       "C(hour)[T.9]                                  0.1000      0.002     42.787      0.000       0.095       0.105\n",
       "C(hour)[T.10]                                 0.1046      0.002     44.788      0.000       0.100       0.109\n",
       "C(hour)[T.11]                                 0.1385      0.002     59.944      0.000       0.134       0.143\n",
       "C(hour)[T.12]                                 0.1510      0.002     65.969      0.000       0.147       0.155\n",
       "C(hour)[T.13]                                 0.1402      0.002     61.186      0.000       0.136       0.145\n",
       "C(hour)[T.14]                                 0.1549      0.002     67.998      0.000       0.150       0.159\n",
       "C(hour)[T.15]                                 0.1601      0.002     69.900      0.000       0.156       0.165\n",
       "C(hour)[T.16]                                 0.1287      0.002     55.077      0.000       0.124       0.133\n",
       "C(hour)[T.17]                                 0.1198      0.002     52.845      0.000       0.115       0.124\n",
       "C(hour)[T.18]                                 0.0975      0.002     44.146      0.000       0.093       0.102\n",
       "C(hour)[T.19]                                 0.0154      0.002      6.985      0.000       0.011       0.020\n",
       "C(hour)[T.20]                                -0.0724      0.002    -32.359      0.000      -0.077      -0.068\n",
       "C(hour)[T.21]                                 0.0884      0.002     43.029      0.000       0.084       0.092\n",
       "C(hour)[T.22]                                 0.0850      0.002     41.078      0.000       0.081       0.089\n",
       "C(hour)[T.23]                                 0.0447      0.002     20.999      0.000       0.041       0.049\n",
       "scale(sqrt_log_dist)                          0.6042      0.001   1125.296      0.000       0.603       0.605\n",
       "scale(sqrt_log_dist):C(vendor_id)[T.2]       -0.0098      0.001    -15.949      0.000      -0.011      -0.009\n",
       "scale(sqrt_log_dist):C(work)[T.1]             0.0104      0.001     16.851      0.000       0.009       0.012\n",
       "scale(weather_event)                         -0.0036      0.000    -11.221      0.000      -0.004      -0.003\n",
       "scale(sqrt_log_dist):scale(weather_event)    -0.0022      0.000     -7.260      0.000      -0.003      -0.002\n",
       "scale(month)                                  0.0266      0.000     85.769      0.000       0.026       0.027\n",
       "==============================================================================\n",
       "Omnibus:                      228.113   Durbin-Watson:                   1.998\n",
       "Prob(Omnibus):                  0.000   Jarque-Bera (JB):              215.685\n",
       "Skew:                          -0.007   Prob(JB):                     1.46e-47\n",
       "Kurtosis:                       2.941   Cond. No.                         35.3\n",
       "==============================================================================\n",
       "\n",
       "Warnings:\n",
       "[1] Standard Errors assume that the covariance matrix of the errors is correctly specified.\n",
       "\"\"\""
      ]
     },
     "execution_count": 8,
     "metadata": {},
     "output_type": "execute_result"
    }
   ],
   "source": [
    "result2.summary()"
   ]
  },
  {
   "cell_type": "code",
   "execution_count": 9,
   "metadata": {},
   "outputs": [
    {
     "data": {
      "text/html": [
       "<div>\n",
       "<style scoped>\n",
       "    .dataframe tbody tr th:only-of-type {\n",
       "        vertical-align: middle;\n",
       "    }\n",
       "\n",
       "    .dataframe tbody tr th {\n",
       "        vertical-align: top;\n",
       "    }\n",
       "\n",
       "    .dataframe thead th {\n",
       "        text-align: right;\n",
       "    }\n",
       "</style>\n",
       "<table border=\"1\" class=\"dataframe\">\n",
       "  <thead>\n",
       "    <tr style=\"text-align: right;\">\n",
       "      <th></th>\n",
       "      <th>R-square</th>\n",
       "      <th>AIC</th>\n",
       "      <th>BIC</th>\n",
       "      <th>Cond.No.</th>\n",
       "      <th>Pb(Fstatics)</th>\n",
       "      <th>Pb(omnibus)</th>\n",
       "      <th>Pb(jb)</th>\n",
       "      <th>Dub-Wat</th>\n",
       "      <th>Remarks</th>\n",
       "    </tr>\n",
       "  </thead>\n",
       "  <tbody>\n",
       "    <tr>\n",
       "      <th>0</th>\n",
       "      <td>0.634</td>\n",
       "      <td>2002340.499</td>\n",
       "      <td>2002803.829</td>\n",
       "      <td>35.223</td>\n",
       "      <td>0.0</td>\n",
       "      <td>0.0</td>\n",
       "      <td>0.0</td>\n",
       "      <td>1.999</td>\n",
       "      <td>basic</td>\n",
       "    </tr>\n",
       "    <tr>\n",
       "      <th>1</th>\n",
       "      <td>0.738</td>\n",
       "      <td>1133996.168</td>\n",
       "      <td>1134458.164</td>\n",
       "      <td>35.330</td>\n",
       "      <td>0.0</td>\n",
       "      <td>0.0</td>\n",
       "      <td>0.0</td>\n",
       "      <td>1.998</td>\n",
       "      <td>w/o_outlier</td>\n",
       "    </tr>\n",
       "  </tbody>\n",
       "</table>\n",
       "</div>"
      ],
      "text/plain": [
       "   R-square          AIC          BIC  Cond.No.  Pb(Fstatics)  Pb(omnibus)  \\\n",
       "0     0.634  2002340.499  2002803.829    35.223           0.0          0.0   \n",
       "1     0.738  1133996.168  1134458.164    35.330           0.0          0.0   \n",
       "\n",
       "   Pb(jb)  Dub-Wat      Remarks  \n",
       "0     0.0    1.999        basic  \n",
       "1     0.0    1.998  w/o_outlier  "
      ]
     },
     "execution_count": 9,
     "metadata": {},
     "output_type": "execute_result"
    }
   ],
   "source": [
    "results"
   ]
  },
  {
   "cell_type": "markdown",
   "metadata": {},
   "source": [
    "## VIF"
   ]
  },
  {
   "cell_type": "code",
   "execution_count": 11,
   "metadata": {},
   "outputs": [
    {
     "data": {
      "text/html": [
       "<div>\n",
       "<style scoped>\n",
       "    .dataframe tbody tr th:only-of-type {\n",
       "        vertical-align: middle;\n",
       "    }\n",
       "\n",
       "    .dataframe tbody tr th {\n",
       "        vertical-align: top;\n",
       "    }\n",
       "\n",
       "    .dataframe thead th {\n",
       "        text-align: right;\n",
       "    }\n",
       "</style>\n",
       "<table border=\"1\" class=\"dataframe\">\n",
       "  <thead>\n",
       "    <tr style=\"text-align: right;\">\n",
       "      <th></th>\n",
       "      <th>VIF Factor</th>\n",
       "      <th>features</th>\n",
       "    </tr>\n",
       "  </thead>\n",
       "  <tbody>\n",
       "    <tr>\n",
       "      <th>0</th>\n",
       "      <td>10.930069</td>\n",
       "      <td>sqrt_log_dist</td>\n",
       "    </tr>\n",
       "    <tr>\n",
       "      <th>1</th>\n",
       "      <td>8.371189</td>\n",
       "      <td>vendor_id</td>\n",
       "    </tr>\n",
       "    <tr>\n",
       "      <th>2</th>\n",
       "      <td>2.311265</td>\n",
       "      <td>work</td>\n",
       "    </tr>\n",
       "    <tr>\n",
       "      <th>3</th>\n",
       "      <td>3.941006</td>\n",
       "      <td>weekday</td>\n",
       "    </tr>\n",
       "    <tr>\n",
       "      <th>4</th>\n",
       "      <td>5.048276</td>\n",
       "      <td>hour</td>\n",
       "    </tr>\n",
       "    <tr>\n",
       "      <th>5</th>\n",
       "      <td>4.941531</td>\n",
       "      <td>month</td>\n",
       "    </tr>\n",
       "    <tr>\n",
       "      <th>6</th>\n",
       "      <td>1.134630</td>\n",
       "      <td>weather_event</td>\n",
       "    </tr>\n",
       "  </tbody>\n",
       "</table>\n",
       "</div>"
      ],
      "text/plain": [
       "   VIF Factor       features\n",
       "0   10.930069  sqrt_log_dist\n",
       "1    8.371189      vendor_id\n",
       "2    2.311265           work\n",
       "3    3.941006        weekday\n",
       "4    5.048276           hour\n",
       "5    4.941531          month\n",
       "6    1.134630  weather_event"
      ]
     },
     "execution_count": 11,
     "metadata": {},
     "output_type": "execute_result"
    }
   ],
   "source": [
    "taxi_vif = taxi_filtered[['sqrt_log_dist', 'vendor_id', 'work', 'weekday', 'hour', 'month', 'weather_event']]\n",
    "vif = pd.DataFrame()\n",
    "vif[\"VIF Factor\"] = [variance_inflation_factor(taxi_vif.values, i) for i in range(taxi_vif.shape[1])]\n",
    "vif[\"features\"] = taxi_vif.columns\n",
    "vif"
   ]
  },
  {
   "cell_type": "markdown",
   "metadata": {},
   "source": [
    "## Nomality test"
   ]
  },
  {
   "cell_type": "code",
   "execution_count": 13,
   "metadata": {},
   "outputs": [
    {
     "data": {
      "image/png": "[encoded data removed]",
      "text/plain": [
       "<matplotlib.figure.Figure at 0x7f9f6af55ba8>"
      ]
     },
     "metadata": {},
     "output_type": "display_data"
    }
   ],
   "source": [
    "f, ax = plt.subplots(figsize=(8, 6))\n",
    "sp.stats.probplot(result.resid, plot = plt)\n",
    "plt.show()"
   ]
  },
  {
   "cell_type": "code",
   "execution_count": 12,
   "metadata": {},
   "outputs": [
    {
     "data": {
      "image/png": "[encoded data removed]",
      "text/plain": [
       "<matplotlib.figure.Figure at 0x7f9f6ad1fb38>"
      ]
     },
     "metadata": {},
     "output_type": "display_data"
    }
   ],
   "source": [
    "f, ax = plt.subplots(figsize=(8, 6))\n",
    "sp.stats.probplot(result2.resid, plot = plt)\n",
    "plt.show()"
   ]
  },
  {
   "cell_type": "markdown",
   "metadata": {},
   "source": [
    "## partial regression"
   ]
  },
  {
   "cell_type": "code",
   "execution_count": 15,
   "metadata": {
    "collapsed": true
   },
   "outputs": [
    {
     "ename": "MemoryError",
     "evalue": "",
     "output_type": "error",
     "traceback": [
      "\u001b[0;31m---------------------------------------------------------------------------\u001b[0m",
      "\u001b[0;31mMemoryError\u001b[0m                               Traceback (most recent call last)",
      "\u001b[0;32m<ipython-input-15-202d0ac8eecc>\u001b[0m in \u001b[0;36m<module>\u001b[0;34m()\u001b[0m\n\u001b[1;32m      1\u001b[0m \u001b[0mfig\u001b[0m \u001b[0;34m=\u001b[0m \u001b[0mplt\u001b[0m\u001b[0;34m.\u001b[0m\u001b[0mfigure\u001b[0m\u001b[0;34m(\u001b[0m\u001b[0mfigsize\u001b[0m\u001b[0;34m=\u001b[0m\u001b[0;34m(\u001b[0m\u001b[0;36m20\u001b[0m\u001b[0;34m,\u001b[0m \u001b[0;36m20\u001b[0m\u001b[0;34m)\u001b[0m\u001b[0;34m)\u001b[0m\u001b[0;34m\u001b[0m\u001b[0m\n\u001b[1;32m      2\u001b[0m \u001b[0mplt\u001b[0m\u001b[0;34m.\u001b[0m\u001b[0msubplots_adjust\u001b[0m\u001b[0;34m(\u001b[0m\u001b[0mwspace\u001b[0m \u001b[0;34m=\u001b[0m \u001b[0;36m0.3\u001b[0m\u001b[0;34m,\u001b[0m \u001b[0mhspace\u001b[0m \u001b[0;34m=\u001b[0m \u001b[0;36m0.5\u001b[0m\u001b[0;34m)\u001b[0m\u001b[0;34m\u001b[0m\u001b[0m\n\u001b[0;32m----> 3\u001b[0;31m \u001b[0msm\u001b[0m\u001b[0;34m.\u001b[0m\u001b[0mgraphics\u001b[0m\u001b[0;34m.\u001b[0m\u001b[0mplot_partregress_grid\u001b[0m\u001b[0;34m(\u001b[0m\u001b[0mresult2\u001b[0m\u001b[0;34m,\u001b[0m \u001b[0mfig\u001b[0m\u001b[0;34m=\u001b[0m\u001b[0mfig\u001b[0m\u001b[0;34m)\u001b[0m\u001b[0;34m\u001b[0m\u001b[0m\n\u001b[0m\u001b[1;32m      4\u001b[0m \u001b[0mplt\u001b[0m\u001b[0;34m.\u001b[0m\u001b[0mshow\u001b[0m\u001b[0;34m(\u001b[0m\u001b[0;34m)\u001b[0m\u001b[0;34m\u001b[0m\u001b[0m\n",
      "\u001b[0;32m~/anaconda3/lib/python3.6/site-packages/statsmodels/graphics/regressionplots.py\u001b[0m in \u001b[0;36mplot_partregress_grid\u001b[0;34m(results, exog_idx, grid, fig)\u001b[0m\n\u001b[1;32m    480\u001b[0m                                           name=other_names[idx]),\n\u001b[1;32m    481\u001b[0m                          \u001b[0mexog_others\u001b[0m\u001b[0;34m,\u001b[0m \u001b[0max\u001b[0m\u001b[0;34m=\u001b[0m\u001b[0max\u001b[0m\u001b[0;34m,\u001b[0m \u001b[0mtitle_kwargs\u001b[0m\u001b[0;34m=\u001b[0m\u001b[0mtitle_kwargs\u001b[0m\u001b[0;34m,\u001b[0m\u001b[0;34m\u001b[0m\u001b[0m\n\u001b[0;32m--> 482\u001b[0;31m                          obs_labels=False)\n\u001b[0m\u001b[1;32m    483\u001b[0m         \u001b[0max\u001b[0m\u001b[0;34m.\u001b[0m\u001b[0mset_title\u001b[0m\u001b[0;34m(\u001b[0m\u001b[0;34m\"\"\u001b[0m\u001b[0;34m)\u001b[0m\u001b[0;34m\u001b[0m\u001b[0m\n\u001b[1;32m    484\u001b[0m \u001b[0;34m\u001b[0m\u001b[0m\n",
      "\u001b[0;32m~/anaconda3/lib/python3.6/site-packages/statsmodels/graphics/regressionplots.py\u001b[0m in \u001b[0;36mplot_partregress\u001b[0;34m(endog, exog_i, exog_others, data, title_kwargs, obs_labels, label_kwargs, ax, ret_coords, **kwargs)\u001b[0m\n\u001b[1;32m    357\u001b[0m         \u001b[0my_axis_endog_name\u001b[0m \u001b[0;34m=\u001b[0m \u001b[0;34m'y'\u001b[0m \u001b[0;32mif\u001b[0m \u001b[0misinstance\u001b[0m\u001b[0;34m(\u001b[0m\u001b[0mendog\u001b[0m\u001b[0;34m,\u001b[0m \u001b[0mnp\u001b[0m\u001b[0;34m.\u001b[0m\u001b[0mndarray\u001b[0m\u001b[0;34m)\u001b[0m \u001b[0;32melse\u001b[0m \u001b[0mendog\u001b[0m\u001b[0;34m.\u001b[0m\u001b[0mdesign_info\u001b[0m\u001b[0;34m.\u001b[0m\u001b[0mcolumn_names\u001b[0m\u001b[0;34m[\u001b[0m\u001b[0;36m0\u001b[0m\u001b[0;34m]\u001b[0m\u001b[0;34m\u001b[0m\u001b[0m\n\u001b[1;32m    358\u001b[0m     \u001b[0;32melse\u001b[0m\u001b[0;34m:\u001b[0m\u001b[0;34m\u001b[0m\u001b[0m\n\u001b[0;32m--> 359\u001b[0;31m         \u001b[0mres_yaxis\u001b[0m \u001b[0;34m=\u001b[0m \u001b[0mOLS\u001b[0m\u001b[0;34m(\u001b[0m\u001b[0mendog\u001b[0m\u001b[0;34m,\u001b[0m \u001b[0mRHS\u001b[0m\u001b[0;34m)\u001b[0m\u001b[0;34m.\u001b[0m\u001b[0mfit\u001b[0m\u001b[0;34m(\u001b[0m\u001b[0;34m)\u001b[0m\u001b[0;34m\u001b[0m\u001b[0m\n\u001b[0m\u001b[1;32m    360\u001b[0m         \u001b[0mres_xaxis\u001b[0m \u001b[0;34m=\u001b[0m \u001b[0mOLS\u001b[0m\u001b[0;34m(\u001b[0m\u001b[0mexog_i\u001b[0m\u001b[0;34m,\u001b[0m \u001b[0mRHS\u001b[0m\u001b[0;34m)\u001b[0m\u001b[0;34m.\u001b[0m\u001b[0mfit\u001b[0m\u001b[0;34m(\u001b[0m\u001b[0;34m)\u001b[0m\u001b[0;34m\u001b[0m\u001b[0m\n\u001b[1;32m    361\u001b[0m         \u001b[0mxaxis_resid\u001b[0m \u001b[0;34m=\u001b[0m \u001b[0mres_xaxis\u001b[0m\u001b[0;34m.\u001b[0m\u001b[0mresid\u001b[0m\u001b[0;34m\u001b[0m\u001b[0m\n",
      "\u001b[0;32m~/anaconda3/lib/python3.6/site-packages/statsmodels/regression/linear_model.py\u001b[0m in \u001b[0;36m__init__\u001b[0;34m(self, endog, exog, missing, hasconst, **kwargs)\u001b[0m\n\u001b[1;32m    629\u001b[0m                  **kwargs):\n\u001b[1;32m    630\u001b[0m         super(OLS, self).__init__(endog, exog, missing=missing,\n\u001b[0;32m--> 631\u001b[0;31m                                   hasconst=hasconst, **kwargs)\n\u001b[0m\u001b[1;32m    632\u001b[0m         \u001b[0;32mif\u001b[0m \u001b[0;34m\"weights\"\u001b[0m \u001b[0;32min\u001b[0m \u001b[0mself\u001b[0m\u001b[0;34m.\u001b[0m\u001b[0m_init_keys\u001b[0m\u001b[0;34m:\u001b[0m\u001b[0;34m\u001b[0m\u001b[0m\n\u001b[1;32m    633\u001b[0m             \u001b[0mself\u001b[0m\u001b[0;34m.\u001b[0m\u001b[0m_init_keys\u001b[0m\u001b[0;34m.\u001b[0m\u001b[0mremove\u001b[0m\u001b[0;34m(\u001b[0m\u001b[0;34m\"weights\"\u001b[0m\u001b[0;34m)\u001b[0m\u001b[0;34m\u001b[0m\u001b[0m\n",
      "\u001b[0;32m~/anaconda3/lib/python3.6/site-packages/statsmodels/regression/linear_model.py\u001b[0m in \u001b[0;36m__init__\u001b[0;34m(self, endog, exog, weights, missing, hasconst, **kwargs)\u001b[0m\n\u001b[1;32m    524\u001b[0m             \u001b[0mweights\u001b[0m \u001b[0;34m=\u001b[0m \u001b[0mweights\u001b[0m\u001b[0;34m.\u001b[0m\u001b[0msqueeze\u001b[0m\u001b[0;34m(\u001b[0m\u001b[0;34m)\u001b[0m\u001b[0;34m\u001b[0m\u001b[0m\n\u001b[1;32m    525\u001b[0m         super(WLS, self).__init__(endog, exog, missing=missing,\n\u001b[0;32m--> 526\u001b[0;31m                                   weights=weights, hasconst=hasconst, **kwargs)\n\u001b[0m\u001b[1;32m    527\u001b[0m         \u001b[0mnobs\u001b[0m \u001b[0;34m=\u001b[0m \u001b[0mself\u001b[0m\u001b[0;34m.\u001b[0m\u001b[0mexog\u001b[0m\u001b[0;34m.\u001b[0m\u001b[0mshape\u001b[0m\u001b[0;34m[\u001b[0m\u001b[0;36m0\u001b[0m\u001b[0;34m]\u001b[0m\u001b[0;34m\u001b[0m\u001b[0m\n\u001b[1;32m    528\u001b[0m         \u001b[0mweights\u001b[0m \u001b[0;34m=\u001b[0m \u001b[0mself\u001b[0m\u001b[0;34m.\u001b[0m\u001b[0mweights\u001b[0m\u001b[0;34m\u001b[0m\u001b[0m\n",
      "\u001b[0;32m~/anaconda3/lib/python3.6/site-packages/statsmodels/regression/linear_model.py\u001b[0m in \u001b[0;36m__init__\u001b[0;34m(self, endog, exog, **kwargs)\u001b[0m\n\u001b[1;32m     93\u001b[0m     \"\"\"\n\u001b[1;32m     94\u001b[0m     \u001b[0;32mdef\u001b[0m \u001b[0m__init__\u001b[0m\u001b[0;34m(\u001b[0m\u001b[0mself\u001b[0m\u001b[0;34m,\u001b[0m \u001b[0mendog\u001b[0m\u001b[0;34m,\u001b[0m \u001b[0mexog\u001b[0m\u001b[0;34m,\u001b[0m \u001b[0;34m**\u001b[0m\u001b[0mkwargs\u001b[0m\u001b[0;34m)\u001b[0m\u001b[0;34m:\u001b[0m\u001b[0;34m\u001b[0m\u001b[0m\n\u001b[0;32m---> 95\u001b[0;31m         \u001b[0msuper\u001b[0m\u001b[0;34m(\u001b[0m\u001b[0mRegressionModel\u001b[0m\u001b[0;34m,\u001b[0m \u001b[0mself\u001b[0m\u001b[0;34m)\u001b[0m\u001b[0;34m.\u001b[0m\u001b[0m__init__\u001b[0m\u001b[0;34m(\u001b[0m\u001b[0mendog\u001b[0m\u001b[0;34m,\u001b[0m \u001b[0mexog\u001b[0m\u001b[0;34m,\u001b[0m \u001b[0;34m**\u001b[0m\u001b[0mkwargs\u001b[0m\u001b[0;34m)\u001b[0m\u001b[0;34m\u001b[0m\u001b[0m\n\u001b[0m\u001b[1;32m     96\u001b[0m         \u001b[0mself\u001b[0m\u001b[0;34m.\u001b[0m\u001b[0m_data_attr\u001b[0m\u001b[0;34m.\u001b[0m\u001b[0mextend\u001b[0m\u001b[0;34m(\u001b[0m\u001b[0;34m[\u001b[0m\u001b[0;34m'pinv_wexog'\u001b[0m\u001b[0;34m,\u001b[0m \u001b[0;34m'wendog'\u001b[0m\u001b[0;34m,\u001b[0m \u001b[0;34m'wexog'\u001b[0m\u001b[0;34m,\u001b[0m \u001b[0;34m'weights'\u001b[0m\u001b[0;34m]\u001b[0m\u001b[0;34m)\u001b[0m\u001b[0;34m\u001b[0m\u001b[0m\n\u001b[1;32m     97\u001b[0m \u001b[0;34m\u001b[0m\u001b[0m\n",
      "\u001b[0;32m~/anaconda3/lib/python3.6/site-packages/statsmodels/base/model.py\u001b[0m in \u001b[0;36m__init__\u001b[0;34m(self, endog, exog, **kwargs)\u001b[0m\n\u001b[1;32m    210\u001b[0m \u001b[0;34m\u001b[0m\u001b[0m\n\u001b[1;32m    211\u001b[0m     \u001b[0;32mdef\u001b[0m \u001b[0m__init__\u001b[0m\u001b[0;34m(\u001b[0m\u001b[0mself\u001b[0m\u001b[0;34m,\u001b[0m \u001b[0mendog\u001b[0m\u001b[0;34m,\u001b[0m \u001b[0mexog\u001b[0m\u001b[0;34m=\u001b[0m\u001b[0;32mNone\u001b[0m\u001b[0;34m,\u001b[0m \u001b[0;34m**\u001b[0m\u001b[0mkwargs\u001b[0m\u001b[0;34m)\u001b[0m\u001b[0;34m:\u001b[0m\u001b[0;34m\u001b[0m\u001b[0m\n\u001b[0;32m--> 212\u001b[0;31m         \u001b[0msuper\u001b[0m\u001b[0;34m(\u001b[0m\u001b[0mLikelihoodModel\u001b[0m\u001b[0;34m,\u001b[0m \u001b[0mself\u001b[0m\u001b[0;34m)\u001b[0m\u001b[0;34m.\u001b[0m\u001b[0m__init__\u001b[0m\u001b[0;34m(\u001b[0m\u001b[0mendog\u001b[0m\u001b[0;34m,\u001b[0m \u001b[0mexog\u001b[0m\u001b[0;34m,\u001b[0m \u001b[0;34m**\u001b[0m\u001b[0mkwargs\u001b[0m\u001b[0;34m)\u001b[0m\u001b[0;34m\u001b[0m\u001b[0m\n\u001b[0m\u001b[1;32m    213\u001b[0m         \u001b[0mself\u001b[0m\u001b[0;34m.\u001b[0m\u001b[0minitialize\u001b[0m\u001b[0;34m(\u001b[0m\u001b[0;34m)\u001b[0m\u001b[0;34m\u001b[0m\u001b[0m\n\u001b[1;32m    214\u001b[0m \u001b[0;34m\u001b[0m\u001b[0m\n",
      "\u001b[0;32m~/anaconda3/lib/python3.6/site-packages/statsmodels/base/model.py\u001b[0m in \u001b[0;36m__init__\u001b[0;34m(self, endog, exog, **kwargs)\u001b[0m\n\u001b[1;32m     61\u001b[0m         \u001b[0mhasconst\u001b[0m \u001b[0;34m=\u001b[0m \u001b[0mkwargs\u001b[0m\u001b[0;34m.\u001b[0m\u001b[0mpop\u001b[0m\u001b[0;34m(\u001b[0m\u001b[0;34m'hasconst'\u001b[0m\u001b[0;34m,\u001b[0m \u001b[0;32mNone\u001b[0m\u001b[0;34m)\u001b[0m\u001b[0;34m\u001b[0m\u001b[0m\n\u001b[1;32m     62\u001b[0m         self.data = self._handle_data(endog, exog, missing, hasconst,\n\u001b[0;32m---> 63\u001b[0;31m                                       **kwargs)\n\u001b[0m\u001b[1;32m     64\u001b[0m         \u001b[0mself\u001b[0m\u001b[0;34m.\u001b[0m\u001b[0mk_constant\u001b[0m \u001b[0;34m=\u001b[0m \u001b[0mself\u001b[0m\u001b[0;34m.\u001b[0m\u001b[0mdata\u001b[0m\u001b[0;34m.\u001b[0m\u001b[0mk_constant\u001b[0m\u001b[0;34m\u001b[0m\u001b[0m\n\u001b[1;32m     65\u001b[0m         \u001b[0mself\u001b[0m\u001b[0;34m.\u001b[0m\u001b[0mexog\u001b[0m \u001b[0;34m=\u001b[0m \u001b[0mself\u001b[0m\u001b[0;34m.\u001b[0m\u001b[0mdata\u001b[0m\u001b[0;34m.\u001b[0m\u001b[0mexog\u001b[0m\u001b[0;34m\u001b[0m\u001b[0m\n",
      "\u001b[0;32m~/anaconda3/lib/python3.6/site-packages/statsmodels/base/model.py\u001b[0m in \u001b[0;36m_handle_data\u001b[0;34m(self, endog, exog, missing, hasconst, **kwargs)\u001b[0m\n\u001b[1;32m     86\u001b[0m \u001b[0;34m\u001b[0m\u001b[0m\n\u001b[1;32m     87\u001b[0m     \u001b[0;32mdef\u001b[0m \u001b[0m_handle_data\u001b[0m\u001b[0;34m(\u001b[0m\u001b[0mself\u001b[0m\u001b[0;34m,\u001b[0m \u001b[0mendog\u001b[0m\u001b[0;34m,\u001b[0m \u001b[0mexog\u001b[0m\u001b[0;34m,\u001b[0m \u001b[0mmissing\u001b[0m\u001b[0;34m,\u001b[0m \u001b[0mhasconst\u001b[0m\u001b[0;34m,\u001b[0m \u001b[0;34m**\u001b[0m\u001b[0mkwargs\u001b[0m\u001b[0;34m)\u001b[0m\u001b[0;34m:\u001b[0m\u001b[0;34m\u001b[0m\u001b[0m\n\u001b[0;32m---> 88\u001b[0;31m         \u001b[0mdata\u001b[0m \u001b[0;34m=\u001b[0m \u001b[0mhandle_data\u001b[0m\u001b[0;34m(\u001b[0m\u001b[0mendog\u001b[0m\u001b[0;34m,\u001b[0m \u001b[0mexog\u001b[0m\u001b[0;34m,\u001b[0m \u001b[0mmissing\u001b[0m\u001b[0;34m,\u001b[0m \u001b[0mhasconst\u001b[0m\u001b[0;34m,\u001b[0m \u001b[0;34m**\u001b[0m\u001b[0mkwargs\u001b[0m\u001b[0;34m)\u001b[0m\u001b[0;34m\u001b[0m\u001b[0m\n\u001b[0m\u001b[1;32m     89\u001b[0m         \u001b[0;31m# kwargs arrays could have changed, easier to just attach here\u001b[0m\u001b[0;34m\u001b[0m\u001b[0;34m\u001b[0m\u001b[0m\n\u001b[1;32m     90\u001b[0m         \u001b[0;32mfor\u001b[0m \u001b[0mkey\u001b[0m \u001b[0;32min\u001b[0m \u001b[0mkwargs\u001b[0m\u001b[0;34m:\u001b[0m\u001b[0;34m\u001b[0m\u001b[0m\n",
      "\u001b[0;32m~/anaconda3/lib/python3.6/site-packages/statsmodels/base/data.py\u001b[0m in \u001b[0;36mhandle_data\u001b[0;34m(endog, exog, missing, hasconst, **kwargs)\u001b[0m\n\u001b[1;32m    628\u001b[0m     \u001b[0mklass\u001b[0m \u001b[0;34m=\u001b[0m \u001b[0mhandle_data_class_factory\u001b[0m\u001b[0;34m(\u001b[0m\u001b[0mendog\u001b[0m\u001b[0;34m,\u001b[0m \u001b[0mexog\u001b[0m\u001b[0;34m)\u001b[0m\u001b[0;34m\u001b[0m\u001b[0m\n\u001b[1;32m    629\u001b[0m     return klass(endog, exog=exog, missing=missing, hasconst=hasconst,\n\u001b[0;32m--> 630\u001b[0;31m                  **kwargs)\n\u001b[0m",
      "\u001b[0;32m~/anaconda3/lib/python3.6/site-packages/statsmodels/base/data.py\u001b[0m in \u001b[0;36m__init__\u001b[0;34m(self, endog, exog, missing, hasconst, **kwargs)\u001b[0m\n\u001b[1;32m     77\u001b[0m \u001b[0;34m\u001b[0m\u001b[0m\n\u001b[1;32m     78\u001b[0m         \u001b[0;31m# this has side-effects, attaches k_constant and const_idx\u001b[0m\u001b[0;34m\u001b[0m\u001b[0;34m\u001b[0m\u001b[0m\n\u001b[0;32m---> 79\u001b[0;31m         \u001b[0mself\u001b[0m\u001b[0;34m.\u001b[0m\u001b[0m_handle_constant\u001b[0m\u001b[0;34m(\u001b[0m\u001b[0mhasconst\u001b[0m\u001b[0;34m)\u001b[0m\u001b[0;34m\u001b[0m\u001b[0m\n\u001b[0m\u001b[1;32m     80\u001b[0m         \u001b[0mself\u001b[0m\u001b[0;34m.\u001b[0m\u001b[0m_check_integrity\u001b[0m\u001b[0;34m(\u001b[0m\u001b[0;34m)\u001b[0m\u001b[0;34m\u001b[0m\u001b[0m\n\u001b[1;32m     81\u001b[0m         \u001b[0mself\u001b[0m\u001b[0;34m.\u001b[0m\u001b[0m_cache\u001b[0m \u001b[0;34m=\u001b[0m \u001b[0mresettable_cache\u001b[0m\u001b[0;34m(\u001b[0m\u001b[0;34m)\u001b[0m\u001b[0;34m\u001b[0m\u001b[0m\n",
      "\u001b[0;32m~/anaconda3/lib/python3.6/site-packages/statsmodels/base/data.py\u001b[0m in \u001b[0;36m_handle_constant\u001b[0;34m(self, hasconst)\u001b[0m\n\u001b[1;32m    169\u001b[0m                 \u001b[0;31m# Compute rank of augmented matrix\u001b[0m\u001b[0;34m\u001b[0m\u001b[0;34m\u001b[0m\u001b[0m\n\u001b[1;32m    170\u001b[0m                 augmented_exog = np.column_stack(\n\u001b[0;32m--> 171\u001b[0;31m                             (np.ones(self.exog.shape[0]), self.exog))\n\u001b[0m\u001b[1;32m    172\u001b[0m                 \u001b[0mrank_augm\u001b[0m \u001b[0;34m=\u001b[0m \u001b[0mnp_matrix_rank\u001b[0m\u001b[0;34m(\u001b[0m\u001b[0maugmented_exog\u001b[0m\u001b[0;34m)\u001b[0m\u001b[0;34m\u001b[0m\u001b[0m\n\u001b[1;32m    173\u001b[0m                 \u001b[0mrank_orig\u001b[0m \u001b[0;34m=\u001b[0m \u001b[0mnp_matrix_rank\u001b[0m\u001b[0;34m(\u001b[0m\u001b[0mself\u001b[0m\u001b[0;34m.\u001b[0m\u001b[0mexog\u001b[0m\u001b[0;34m)\u001b[0m\u001b[0;34m\u001b[0m\u001b[0m\n",
      "\u001b[0;32m~/anaconda3/lib/python3.6/site-packages/numpy/lib/shape_base.py\u001b[0m in \u001b[0;36mcolumn_stack\u001b[0;34m(tup)\u001b[0m\n\u001b[1;32m    367\u001b[0m             \u001b[0marr\u001b[0m \u001b[0;34m=\u001b[0m \u001b[0marray\u001b[0m\u001b[0;34m(\u001b[0m\u001b[0marr\u001b[0m\u001b[0;34m,\u001b[0m \u001b[0mcopy\u001b[0m\u001b[0;34m=\u001b[0m\u001b[0;32mFalse\u001b[0m\u001b[0;34m,\u001b[0m \u001b[0msubok\u001b[0m\u001b[0;34m=\u001b[0m\u001b[0;32mTrue\u001b[0m\u001b[0;34m,\u001b[0m \u001b[0mndmin\u001b[0m\u001b[0;34m=\u001b[0m\u001b[0;36m2\u001b[0m\u001b[0;34m)\u001b[0m\u001b[0;34m.\u001b[0m\u001b[0mT\u001b[0m\u001b[0;34m\u001b[0m\u001b[0m\n\u001b[1;32m    368\u001b[0m         \u001b[0marrays\u001b[0m\u001b[0;34m.\u001b[0m\u001b[0mappend\u001b[0m\u001b[0;34m(\u001b[0m\u001b[0marr\u001b[0m\u001b[0;34m)\u001b[0m\u001b[0;34m\u001b[0m\u001b[0m\n\u001b[0;32m--> 369\u001b[0;31m     \u001b[0;32mreturn\u001b[0m \u001b[0m_nx\u001b[0m\u001b[0;34m.\u001b[0m\u001b[0mconcatenate\u001b[0m\u001b[0;34m(\u001b[0m\u001b[0marrays\u001b[0m\u001b[0;34m,\u001b[0m \u001b[0;36m1\u001b[0m\u001b[0;34m)\u001b[0m\u001b[0;34m\u001b[0m\u001b[0m\n\u001b[0m\u001b[1;32m    370\u001b[0m \u001b[0;34m\u001b[0m\u001b[0m\n\u001b[1;32m    371\u001b[0m \u001b[0;32mdef\u001b[0m \u001b[0mdstack\u001b[0m\u001b[0;34m(\u001b[0m\u001b[0mtup\u001b[0m\u001b[0;34m)\u001b[0m\u001b[0;34m:\u001b[0m\u001b[0;34m\u001b[0m\u001b[0m\n",
      "\u001b[0;31mMemoryError\u001b[0m: "
     ]
    },
    {
     "data": {
      "image/png": "[encoded data removed]",
      "text/plain": [
       "<matplotlib.figure.Figure at 0x7f9f6acd25c0>"
      ]
     },
     "metadata": {},
     "output_type": "display_data"
    }
   ],
   "source": [
    "fig = plt.figure(figsize=(20, 20))\n",
    "plt.subplots_adjust(wspace = 0.3, hspace = 0.5)\n",
    "sm.graphics.plot_partregress_grid(result2, fig=fig)\n",
    "plt.show()"
   ]
  }
 ],
 "metadata": {
  "kernelspec": {
   "display_name": "Python 3",
   "language": "python",
   "name": "python3"
  },
  "language_info": {
   "codemirror_mode": {
    "name": "ipython",
    "version": 3
   },
   "file_extension": ".py",
   "mimetype": "text/x-python",
   "name": "python",
   "nbconvert_exporter": "python",
   "pygments_lexer": "ipython3",
   "version": "3.6.4"
  }
 },
 "nbformat": 4,
 "nbformat_minor": 2
}
