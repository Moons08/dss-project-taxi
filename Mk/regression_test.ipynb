{
 "cells": [
  {
   "cell_type": "markdown",
   "metadata": {},
   "source": [
    "## regression test"
   ]
  },
  {
   "cell_type": "code",
   "execution_count": 1,
   "metadata": {
    "collapsed": true
   },
   "outputs": [],
   "source": [
    "%matplotlib inline\n",
    "%config InlineBackend.figure_formats = {'png', 'retina'}\n",
    "sns.set()\n",
    "from patsy import dmatrix\n",
    "import datetime as dt\n",
    "import copy"
   ]
  },
  {
   "cell_type": "code",
   "execution_count": 2,
   "metadata": {
    "collapsed": true
   },
   "outputs": [],
   "source": [
    "taxi = pd.read_csv('train.csv')"
   ]
  },
  {
   "cell_type": "markdown",
   "metadata": {},
   "source": [
    "datetime 형변환"
   ]
  },
  {
   "cell_type": "code",
   "execution_count": 3,
   "metadata": {},
   "outputs": [
    {
     "data": {
      "text/plain": [
       "datetime.datetime(2016, 1, 1, 0, 0, 1)"
      ]
     },
     "execution_count": 3,
     "metadata": {},
     "output_type": "execute_result"
    }
   ],
   "source": [
    "datezero = dt.datetime(2016, 1, 1, 0, 0, 1) # 기준\n",
    "datezero"
   ]
  },
  {
   "cell_type": "code",
   "execution_count": 4,
   "metadata": {
    "collapsed": true
   },
   "outputs": [],
   "source": [
    "taxi['pickup_datetime'] = taxi['pickup_datetime'].apply(lambda x: dt.datetime.strptime(x, \"%Y-%m-%d %H:%M:%S\"))\n",
    "taxi['pick_date'] = taxi['pickup_datetime'].apply(lambda x: int((x - datezero).days))\n",
    "taxi['pick_time'] = taxi['pickup_datetime'].apply(lambda x: int((x - datezero).seconds))\n",
    "taxi['weekday'] = taxi['pickup_datetime'].apply(lambda x: int(x.weekday())) # 0 월"
   ]
  },
  {
   "cell_type": "code",
   "execution_count": 5,
   "metadata": {
    "collapsed": true
   },
   "outputs": [],
   "source": [
    "def haversine_np(lon1, lat1, lon2, lat2): #직선거리 구하는 함수\n",
    "    lon1, lat1, lon2, lat2 = map(np.radians, [lon1, lat1, lon2, lat2])\n",
    "\n",
    "    dlon = lon2 - lon1\n",
    "    dlat = lat2 - lat1\n",
    "\n",
    "    a = np.sin(dlat/2.0)**2 + np.cos(lat1) * np.cos(lat2) * np.sin(dlon/2.0)**2\n",
    "\n",
    "    c = 2 * np.arcsin(np.sqrt(a))\n",
    "    km = 6367 * c\n",
    "    return km"
   ]
  },
  {
   "cell_type": "code",
   "execution_count": 6,
   "metadata": {
    "collapsed": true
   },
   "outputs": [],
   "source": [
    "taxi['dist'] = haversine_np(taxi['pickup_longitude'], taxi['pickup_latitude'], taxi['dropoff_longitude'], taxi['dropoff_latitude'])\n",
    "taxi['velo'] = taxi['dist']/taxi['trip_duration']*3600 #km/h"
   ]
  },
  {
   "cell_type": "code",
   "execution_count": 7,
   "metadata": {
    "collapsed": true
   },
   "outputs": [],
   "source": [
    "taxi2 = copy.deepcopy(taxi) # save"
   ]
  },
  {
   "cell_type": "markdown",
   "metadata": {},
   "source": [
    "---"
   ]
  },
  {
   "cell_type": "code",
   "execution_count": 8,
   "metadata": {},
   "outputs": [
    {
     "data": {
      "text/html": [
       "<div>\n",
       "<style>\n",
       "    .dataframe thead tr:only-child th {\n",
       "        text-align: right;\n",
       "    }\n",
       "\n",
       "    .dataframe thead th {\n",
       "        text-align: left;\n",
       "    }\n",
       "\n",
       "    .dataframe tbody tr th {\n",
       "        vertical-align: top;\n",
       "    }\n",
       "</style>\n",
       "<table border=\"1\" class=\"dataframe\">\n",
       "  <thead>\n",
       "    <tr style=\"text-align: right;\">\n",
       "      <th></th>\n",
       "      <th>Intercept</th>\n",
       "      <th>trip_duration</th>\n",
       "      <th>weekday</th>\n",
       "      <th>pick_date</th>\n",
       "      <th>pick_time</th>\n",
       "      <th>dist</th>\n",
       "    </tr>\n",
       "  </thead>\n",
       "  <tbody>\n",
       "    <tr>\n",
       "      <th>1458639</th>\n",
       "      <td>1.0</td>\n",
       "      <td>778.0</td>\n",
       "      <td>4.0</td>\n",
       "      <td>98.0</td>\n",
       "      <td>48663.0</td>\n",
       "      <td>1.224311</td>\n",
       "    </tr>\n",
       "    <tr>\n",
       "      <th>1458640</th>\n",
       "      <td>1.0</td>\n",
       "      <td>655.0</td>\n",
       "      <td>6.0</td>\n",
       "      <td>9.0</td>\n",
       "      <td>27314.0</td>\n",
       "      <td>6.046037</td>\n",
       "    </tr>\n",
       "    <tr>\n",
       "      <th>1458641</th>\n",
       "      <td>1.0</td>\n",
       "      <td>764.0</td>\n",
       "      <td>4.0</td>\n",
       "      <td>112.0</td>\n",
       "      <td>25060.0</td>\n",
       "      <td>7.819693</td>\n",
       "    </tr>\n",
       "    <tr>\n",
       "      <th>1458642</th>\n",
       "      <td>1.0</td>\n",
       "      <td>373.0</td>\n",
       "      <td>1.0</td>\n",
       "      <td>4.0</td>\n",
       "      <td>57385.0</td>\n",
       "      <td>1.091878</td>\n",
       "    </tr>\n",
       "    <tr>\n",
       "      <th>1458643</th>\n",
       "      <td>1.0</td>\n",
       "      <td>198.0</td>\n",
       "      <td>1.0</td>\n",
       "      <td>95.0</td>\n",
       "      <td>53064.0</td>\n",
       "      <td>1.133330</td>\n",
       "    </tr>\n",
       "  </tbody>\n",
       "</table>\n",
       "</div>"
      ],
      "text/plain": [
       "         Intercept  trip_duration  weekday  pick_date  pick_time      dist\n",
       "1458639        1.0          778.0      4.0       98.0    48663.0  1.224311\n",
       "1458640        1.0          655.0      6.0        9.0    27314.0  6.046037\n",
       "1458641        1.0          764.0      4.0      112.0    25060.0  7.819693\n",
       "1458642        1.0          373.0      1.0        4.0    57385.0  1.091878\n",
       "1458643        1.0          198.0      1.0       95.0    53064.0  1.133330"
      ]
     },
     "execution_count": 8,
     "metadata": {},
     "output_type": "execute_result"
    }
   ],
   "source": [
    "test = dmatrix(\"trip_duration + weekday + pick_date + pick_time  + dist\", taxi, return_type =\"dataframe\" )\n",
    "test.tail()"
   ]
  },
  {
   "cell_type": "code",
   "execution_count": 9,
   "metadata": {
    "collapsed": true
   },
   "outputs": [],
   "source": [
    "real = test.loc[:, \"trip_duration\"] # 실제 정답 y\n",
    "norm = []"
   ]
  },
  {
   "cell_type": "code",
   "execution_count": 10,
   "metadata": {},
   "outputs": [
    {
     "data": {
      "text/plain": [
       "'pick_date + pick_time + dist'"
      ]
     },
     "execution_count": 10,
     "metadata": {},
     "output_type": "execute_result"
    }
   ],
   "source": [
    "features = \" + \".join(list(test.columns)[3:])\n",
    "features"
   ]
  },
  {
   "cell_type": "code",
   "execution_count": 11,
   "metadata": {},
   "outputs": [
    {
     "data": {
      "text/html": [
       "<table class=\"simpletable\">\n",
       "<caption>OLS Regression Results</caption>\n",
       "<tr>\n",
       "  <th>Dep. Variable:</th>      <td>trip_duration</td>  <th>  R-squared:         </th>  <td>   0.009</td>  \n",
       "</tr>\n",
       "<tr>\n",
       "  <th>Model:</th>                   <td>OLS</td>       <th>  Adj. R-squared:    </th>  <td>   0.009</td>  \n",
       "</tr>\n",
       "<tr>\n",
       "  <th>Method:</th>             <td>Least Squares</td>  <th>  F-statistic:       </th>  <td>   4433.</td>  \n",
       "</tr>\n",
       "<tr>\n",
       "  <th>Date:</th>             <td>Mon, 05 Mar 2018</td> <th>  Prob (F-statistic):</th>   <td>  0.00</td>   \n",
       "</tr>\n",
       "<tr>\n",
       "  <th>Time:</th>                 <td>23:13:39</td>     <th>  Log-Likelihood:    </th> <td>-1.4554e+07</td>\n",
       "</tr>\n",
       "<tr>\n",
       "  <th>No. Observations:</th>      <td>1458644</td>     <th>  AIC:               </th>  <td>2.911e+07</td> \n",
       "</tr>\n",
       "<tr>\n",
       "  <th>Df Residuals:</th>          <td>1458640</td>     <th>  BIC:               </th>  <td>2.911e+07</td> \n",
       "</tr>\n",
       "<tr>\n",
       "  <th>Df Model:</th>              <td>     3</td>      <th>                     </th>      <td> </td>     \n",
       "</tr>\n",
       "<tr>\n",
       "  <th>Covariance Type:</th>      <td>nonrobust</td>    <th>                     </th>      <td> </td>     \n",
       "</tr>\n",
       "</table>\n",
       "<table class=\"simpletable\">\n",
       "<tr>\n",
       "      <td></td>         <th>coef</th>     <th>std err</th>      <th>t</th>      <th>P>|t|</th>  <th>[0.025</th>    <th>0.975]</th>  \n",
       "</tr>\n",
       "<tr>\n",
       "  <th>Intercept</th> <td>  455.6270</td> <td>   13.398</td> <td>   34.006</td> <td> 0.000</td> <td>  429.367</td> <td>  481.887</td>\n",
       "</tr>\n",
       "<tr>\n",
       "  <th>pick_date</th> <td>    0.5164</td> <td>    0.084</td> <td>    6.167</td> <td> 0.000</td> <td>    0.352</td> <td>    0.680</td>\n",
       "</tr>\n",
       "<tr>\n",
       "  <th>pick_time</th> <td>    0.0012</td> <td>    0.000</td> <td>    6.250</td> <td> 0.000</td> <td>    0.001</td> <td>    0.002</td>\n",
       "</tr>\n",
       "<tr>\n",
       "  <th>dist</th>      <td>  115.6039</td> <td>    1.006</td> <td>  114.956</td> <td> 0.000</td> <td>  113.633</td> <td>  117.575</td>\n",
       "</tr>\n",
       "</table>\n",
       "<table class=\"simpletable\">\n",
       "<tr>\n",
       "  <th>Omnibus:</th>       <td>8312425.911</td> <th>  Durbin-Watson:     </th>       <td>   2.000</td>      \n",
       "</tr>\n",
       "<tr>\n",
       "  <th>Prob(Omnibus):</th>   <td> 0.000</td>    <th>  Jarque-Bera (JB):  </th> <td>2318004688590566.500</td>\n",
       "</tr>\n",
       "<tr>\n",
       "  <th>Skew:</th>            <td>347.384</td>   <th>  Prob(JB):          </th>       <td>    0.00</td>      \n",
       "</tr>\n",
       "<tr>\n",
       "  <th>Kurtosis:</th>      <td>195295.414</td>  <th>  Cond. No.          </th>       <td>1.73e+05</td>      \n",
       "</tr>\n",
       "</table>"
      ],
      "text/plain": [
       "<class 'statsmodels.iolib.summary.Summary'>\n",
       "\"\"\"\n",
       "                            OLS Regression Results                            \n",
       "==============================================================================\n",
       "Dep. Variable:          trip_duration   R-squared:                       0.009\n",
       "Model:                            OLS   Adj. R-squared:                  0.009\n",
       "Method:                 Least Squares   F-statistic:                     4433.\n",
       "Date:                Mon, 05 Mar 2018   Prob (F-statistic):               0.00\n",
       "Time:                        23:13:39   Log-Likelihood:            -1.4554e+07\n",
       "No. Observations:             1458644   AIC:                         2.911e+07\n",
       "Df Residuals:                 1458640   BIC:                         2.911e+07\n",
       "Df Model:                           3                                         \n",
       "Covariance Type:            nonrobust                                         \n",
       "==============================================================================\n",
       "                 coef    std err          t      P>|t|      [0.025      0.975]\n",
       "------------------------------------------------------------------------------\n",
       "Intercept    455.6270     13.398     34.006      0.000     429.367     481.887\n",
       "pick_date      0.5164      0.084      6.167      0.000       0.352       0.680\n",
       "pick_time      0.0012      0.000      6.250      0.000       0.001       0.002\n",
       "dist         115.6039      1.006    114.956      0.000     113.633     117.575\n",
       "================================================================================\n",
       "Omnibus:                  8312425.911   Durbin-Watson:                     2.000\n",
       "Prob(Omnibus):                  0.000   Jarque-Bera (JB):   2318004688590566.500\n",
       "Skew:                         347.384   Prob(JB):                           0.00\n",
       "Kurtosis:                  195295.414   Cond. No.                       1.73e+05\n",
       "================================================================================\n",
       "\n",
       "Warnings:\n",
       "[1] Standard Errors assume that the covariance matrix of the errors is correctly specified.\n",
       "[2] The condition number is large, 1.73e+05. This might indicate that there are\n",
       "strong multicollinearity or other numerical problems.\n",
       "\"\"\""
      ]
     },
     "execution_count": 11,
     "metadata": {},
     "output_type": "execute_result"
    }
   ],
   "source": [
    "model =  sm.OLS.from_formula(\"trip_duration ~ {}\".format(features), data=test)\n",
    "result = model.fit()\n",
    "result.summary()"
   ]
  },
  {
   "cell_type": "code",
   "execution_count": 12,
   "metadata": {},
   "outputs": [
    {
     "data": {
      "image/png": "[encoded data removed]",
      "text/plain": [
       "<matplotlib.figure.Figure at 0x7f0ec0a88b00>"
      ]
     },
     "metadata": {
      "image/png": {
       "height": 248,
       "width": 399
      }
     },
     "output_type": "display_data"
    }
   ],
   "source": [
    "X = dmatrix(\"{}\".format(features), taxi, return_type =\"dataframe\" )\n",
    "predictions = result.predict(X) # 실제 데이터를 넣어 모형평가\n",
    "norm = np.append(norm, np.linalg.norm(predictions-real)/len(X))\n",
    "plt.scatter(real, predictions)\n",
    "plt.show()"
   ]
  },
  {
   "cell_type": "markdown",
   "metadata": {},
   "source": [
    "---"
   ]
  },
  {
   "cell_type": "markdown",
   "metadata": {},
   "source": [
    "#### 예상했던 아웃라이어 제거"
   ]
  },
  {
   "cell_type": "code",
   "execution_count": 13,
   "metadata": {
    "collapsed": true
   },
   "outputs": [],
   "source": [
    "taxi = taxi[taxi['velo']<80] # 속도 80이상 삭제\n",
    "taxi = taxi[taxi['trip_duration']<86400].reset_index(drop=True) # 24시간 이상 탑승 제거\n",
    "# taxi = taxi[taxi['trip_duration']>30].reset_index(drop=True) # 30초 이하 탑승 제거 - 아마 잘못 눌렀으면 바로 껐을테고, 그럼 duration도 짧게 나올 것임. "
   ]
  },
  {
   "cell_type": "code",
   "execution_count": 14,
   "metadata": {
    "collapsed": true,
    "scrolled": true
   },
   "outputs": [],
   "source": [
    "# new one\n",
    "test = dmatrix(\"trip_duration + weekday + pick_date + pick_time  + dist\", taxi, return_type =\"dataframe\" )\n",
    "real = test.loc[:, \"trip_duration\"] #정답"
   ]
  },
  {
   "cell_type": "code",
   "execution_count": 15,
   "metadata": {},
   "outputs": [
    {
     "data": {
      "text/plain": [
       "'pick_date + pick_time + dist'"
      ]
     },
     "execution_count": 15,
     "metadata": {},
     "output_type": "execute_result"
    }
   ],
   "source": [
    "features = \" + \".join(list(test.columns)[3:])\n",
    "features"
   ]
  },
  {
   "cell_type": "code",
   "execution_count": 16,
   "metadata": {},
   "outputs": [
    {
     "data": {
      "text/html": [
       "<table class=\"simpletable\">\n",
       "<caption>OLS Regression Results</caption>\n",
       "<tr>\n",
       "  <th>Dep. Variable:</th>      <td>trip_duration</td>  <th>  R-squared:         </th>  <td>   0.027</td>  \n",
       "</tr>\n",
       "<tr>\n",
       "  <th>Model:</th>                   <td>OLS</td>       <th>  Adj. R-squared:    </th>  <td>   0.027</td>  \n",
       "</tr>\n",
       "<tr>\n",
       "  <th>Method:</th>             <td>Least Squares</td>  <th>  F-statistic:       </th>  <td>1.371e+04</td> \n",
       "</tr>\n",
       "<tr>\n",
       "  <th>Date:</th>             <td>Mon, 05 Mar 2018</td> <th>  Prob (F-statistic):</th>   <td>  0.00</td>   \n",
       "</tr>\n",
       "<tr>\n",
       "  <th>Time:</th>                 <td>23:14:09</td>     <th>  Log-Likelihood:    </th> <td>-1.3807e+07</td>\n",
       "</tr>\n",
       "<tr>\n",
       "  <th>No. Observations:</th>      <td>1458406</td>     <th>  AIC:               </th>  <td>2.761e+07</td> \n",
       "</tr>\n",
       "<tr>\n",
       "  <th>Df Residuals:</th>          <td>1458402</td>     <th>  BIC:               </th>  <td>2.761e+07</td> \n",
       "</tr>\n",
       "<tr>\n",
       "  <th>Df Model:</th>              <td>     3</td>      <th>                     </th>      <td> </td>     \n",
       "</tr>\n",
       "<tr>\n",
       "  <th>Covariance Type:</th>      <td>nonrobust</td>    <th>                     </th>      <td> </td>     \n",
       "</tr>\n",
       "</table>\n",
       "<table class=\"simpletable\">\n",
       "<tr>\n",
       "      <td></td>         <th>coef</th>     <th>std err</th>      <th>t</th>      <th>P>|t|</th>  <th>[0.025</th>    <th>0.975]</th>  \n",
       "</tr>\n",
       "<tr>\n",
       "  <th>Intercept</th> <td>  376.5718</td> <td>    8.088</td> <td>   46.559</td> <td> 0.000</td> <td>  360.719</td> <td>  392.424</td>\n",
       "</tr>\n",
       "<tr>\n",
       "  <th>pick_date</th> <td>    0.6540</td> <td>    0.050</td> <td>   13.019</td> <td> 0.000</td> <td>    0.556</td> <td>    0.752</td>\n",
       "</tr>\n",
       "<tr>\n",
       "  <th>pick_time</th> <td>    0.0012</td> <td>    0.000</td> <td>   10.857</td> <td> 0.000</td> <td>    0.001</td> <td>    0.001</td>\n",
       "</tr>\n",
       "<tr>\n",
       "  <th>dist</th>      <td>  132.4923</td> <td>    0.656</td> <td>  202.022</td> <td> 0.000</td> <td>  131.207</td> <td>  133.778</td>\n",
       "</tr>\n",
       "</table>\n",
       "<table class=\"simpletable\">\n",
       "<tr>\n",
       "  <th>Omnibus:</th>       <td>3556867.032</td> <th>  Durbin-Watson:     </th>    <td>   2.000</td>    \n",
       "</tr>\n",
       "<tr>\n",
       "  <th>Prob(Omnibus):</th>   <td> 0.000</td>    <th>  Jarque-Bera (JB):  </th> <td>30211642352.389</td>\n",
       "</tr>\n",
       "<tr>\n",
       "  <th>Skew:</th>            <td>26.265</td>    <th>  Prob(JB):          </th>    <td>    0.00</td>    \n",
       "</tr>\n",
       "<tr>\n",
       "  <th>Kurtosis:</th>        <td>706.145</td>   <th>  Cond. No.          </th>    <td>1.74e+05</td>    \n",
       "</tr>\n",
       "</table>"
      ],
      "text/plain": [
       "<class 'statsmodels.iolib.summary.Summary'>\n",
       "\"\"\"\n",
       "                            OLS Regression Results                            \n",
       "==============================================================================\n",
       "Dep. Variable:          trip_duration   R-squared:                       0.027\n",
       "Model:                            OLS   Adj. R-squared:                  0.027\n",
       "Method:                 Least Squares   F-statistic:                 1.371e+04\n",
       "Date:                Mon, 05 Mar 2018   Prob (F-statistic):               0.00\n",
       "Time:                        23:14:09   Log-Likelihood:            -1.3807e+07\n",
       "No. Observations:             1458406   AIC:                         2.761e+07\n",
       "Df Residuals:                 1458402   BIC:                         2.761e+07\n",
       "Df Model:                           3                                         \n",
       "Covariance Type:            nonrobust                                         \n",
       "==============================================================================\n",
       "                 coef    std err          t      P>|t|      [0.025      0.975]\n",
       "------------------------------------------------------------------------------\n",
       "Intercept    376.5718      8.088     46.559      0.000     360.719     392.424\n",
       "pick_date      0.6540      0.050     13.019      0.000       0.556       0.752\n",
       "pick_time      0.0012      0.000     10.857      0.000       0.001       0.001\n",
       "dist         132.4923      0.656    202.022      0.000     131.207     133.778\n",
       "==============================================================================\n",
       "Omnibus:                  3556867.032   Durbin-Watson:                   2.000\n",
       "Prob(Omnibus):                  0.000   Jarque-Bera (JB):      30211642352.389\n",
       "Skew:                          26.265   Prob(JB):                         0.00\n",
       "Kurtosis:                     706.145   Cond. No.                     1.74e+05\n",
       "==============================================================================\n",
       "\n",
       "Warnings:\n",
       "[1] Standard Errors assume that the covariance matrix of the errors is correctly specified.\n",
       "[2] The condition number is large, 1.74e+05. This might indicate that there are\n",
       "strong multicollinearity or other numerical problems.\n",
       "\"\"\""
      ]
     },
     "execution_count": 16,
     "metadata": {},
     "output_type": "execute_result"
    }
   ],
   "source": [
    "model =  sm.OLS.from_formula(\"trip_duration ~ {}\".format(features), data=test)\n",
    "result = model.fit()\n",
    "result.summary() # Log-Likelihood 값이 증가 - good"
   ]
  },
  {
   "cell_type": "code",
   "execution_count": 17,
   "metadata": {},
   "outputs": [],
   "source": [
    "X = dmatrix(\"{}\".format(features), taxi, return_type =\"dataframe\" )\n",
    "predictions = result.predict(X)\n",
    "norm = np.append(norm, np.linalg.norm(predictions-real)/len(X))"
   ]
  },
  {
   "cell_type": "markdown",
   "metadata": {},
   "source": [
    "## weekday +"
   ]
  },
  {
   "cell_type": "code",
   "execution_count": 18,
   "metadata": {},
   "outputs": [
    {
     "data": {
      "text/plain": [
       "'weekday + pick_date + pick_time + dist'"
      ]
     },
     "execution_count": 18,
     "metadata": {},
     "output_type": "execute_result"
    }
   ],
   "source": [
    "features = \" + \".join(list(test.columns)[2:])\n",
    "features"
   ]
  },
  {
   "cell_type": "code",
   "execution_count": 19,
   "metadata": {},
   "outputs": [
    {
     "data": {
      "text/html": [
       "<table class=\"simpletable\">\n",
       "<caption>OLS Regression Results</caption>\n",
       "<tr>\n",
       "  <th>Dep. Variable:</th>      <td>trip_duration</td>  <th>  R-squared:         </th>  <td>   0.027</td>  \n",
       "</tr>\n",
       "<tr>\n",
       "  <th>Model:</th>                   <td>OLS</td>       <th>  Adj. R-squared:    </th>  <td>   0.027</td>  \n",
       "</tr>\n",
       "<tr>\n",
       "  <th>Method:</th>             <td>Least Squares</td>  <th>  F-statistic:       </th>  <td>1.029e+04</td> \n",
       "</tr>\n",
       "<tr>\n",
       "  <th>Date:</th>             <td>Mon, 05 Mar 2018</td> <th>  Prob (F-statistic):</th>   <td>  0.00</td>   \n",
       "</tr>\n",
       "<tr>\n",
       "  <th>Time:</th>                 <td>23:14:11</td>     <th>  Log-Likelihood:    </th> <td>-1.3807e+07</td>\n",
       "</tr>\n",
       "<tr>\n",
       "  <th>No. Observations:</th>      <td>1458406</td>     <th>  AIC:               </th>  <td>2.761e+07</td> \n",
       "</tr>\n",
       "<tr>\n",
       "  <th>Df Residuals:</th>          <td>1458401</td>     <th>  BIC:               </th>  <td>2.761e+07</td> \n",
       "</tr>\n",
       "<tr>\n",
       "  <th>Df Model:</th>              <td>     4</td>      <th>                     </th>      <td> </td>     \n",
       "</tr>\n",
       "<tr>\n",
       "  <th>Covariance Type:</th>      <td>nonrobust</td>    <th>                     </th>      <td> </td>     \n",
       "</tr>\n",
       "</table>\n",
       "<table class=\"simpletable\">\n",
       "<tr>\n",
       "      <td></td>         <th>coef</th>     <th>std err</th>      <th>t</th>      <th>P>|t|</th>  <th>[0.025</th>    <th>0.975]</th>  \n",
       "</tr>\n",
       "<tr>\n",
       "  <th>Intercept</th> <td>  387.3460</td> <td>    9.299</td> <td>   41.657</td> <td> 0.000</td> <td>  369.121</td> <td>  405.571</td>\n",
       "</tr>\n",
       "<tr>\n",
       "  <th>weekday</th>   <td>   -3.1244</td> <td>    1.330</td> <td>   -2.349</td> <td> 0.019</td> <td>   -5.732</td> <td>   -0.517</td>\n",
       "</tr>\n",
       "<tr>\n",
       "  <th>pick_date</th> <td>    0.6523</td> <td>    0.050</td> <td>   12.984</td> <td> 0.000</td> <td>    0.554</td> <td>    0.751</td>\n",
       "</tr>\n",
       "<tr>\n",
       "  <th>pick_time</th> <td>    0.0012</td> <td>    0.000</td> <td>   10.621</td> <td> 0.000</td> <td>    0.001</td> <td>    0.001</td>\n",
       "</tr>\n",
       "<tr>\n",
       "  <th>dist</th>      <td>  132.5032</td> <td>    0.656</td> <td>  202.034</td> <td> 0.000</td> <td>  131.218</td> <td>  133.789</td>\n",
       "</tr>\n",
       "</table>\n",
       "<table class=\"simpletable\">\n",
       "<tr>\n",
       "  <th>Omnibus:</th>       <td>3556924.504</td> <th>  Durbin-Watson:     </th>    <td>   2.000</td>    \n",
       "</tr>\n",
       "<tr>\n",
       "  <th>Prob(Omnibus):</th>   <td> 0.000</td>    <th>  Jarque-Bera (JB):  </th> <td>30214905881.787</td>\n",
       "</tr>\n",
       "<tr>\n",
       "  <th>Skew:</th>            <td>26.266</td>    <th>  Prob(JB):          </th>    <td>    0.00</td>    \n",
       "</tr>\n",
       "<tr>\n",
       "  <th>Kurtosis:</th>        <td>706.183</td>   <th>  Cond. No.          </th>    <td>2.01e+05</td>    \n",
       "</tr>\n",
       "</table>"
      ],
      "text/plain": [
       "<class 'statsmodels.iolib.summary.Summary'>\n",
       "\"\"\"\n",
       "                            OLS Regression Results                            \n",
       "==============================================================================\n",
       "Dep. Variable:          trip_duration   R-squared:                       0.027\n",
       "Model:                            OLS   Adj. R-squared:                  0.027\n",
       "Method:                 Least Squares   F-statistic:                 1.029e+04\n",
       "Date:                Mon, 05 Mar 2018   Prob (F-statistic):               0.00\n",
       "Time:                        23:14:11   Log-Likelihood:            -1.3807e+07\n",
       "No. Observations:             1458406   AIC:                         2.761e+07\n",
       "Df Residuals:                 1458401   BIC:                         2.761e+07\n",
       "Df Model:                           4                                         \n",
       "Covariance Type:            nonrobust                                         \n",
       "==============================================================================\n",
       "                 coef    std err          t      P>|t|      [0.025      0.975]\n",
       "------------------------------------------------------------------------------\n",
       "Intercept    387.3460      9.299     41.657      0.000     369.121     405.571\n",
       "weekday       -3.1244      1.330     -2.349      0.019      -5.732      -0.517\n",
       "pick_date      0.6523      0.050     12.984      0.000       0.554       0.751\n",
       "pick_time      0.0012      0.000     10.621      0.000       0.001       0.001\n",
       "dist         132.5032      0.656    202.034      0.000     131.218     133.789\n",
       "==============================================================================\n",
       "Omnibus:                  3556924.504   Durbin-Watson:                   2.000\n",
       "Prob(Omnibus):                  0.000   Jarque-Bera (JB):      30214905881.787\n",
       "Skew:                          26.266   Prob(JB):                         0.00\n",
       "Kurtosis:                     706.183   Cond. No.                     2.01e+05\n",
       "==============================================================================\n",
       "\n",
       "Warnings:\n",
       "[1] Standard Errors assume that the covariance matrix of the errors is correctly specified.\n",
       "[2] The condition number is large, 2.01e+05. This might indicate that there are\n",
       "strong multicollinearity or other numerical problems.\n",
       "\"\"\""
      ]
     },
     "execution_count": 19,
     "metadata": {},
     "output_type": "execute_result"
    }
   ],
   "source": [
    "model =  sm.OLS.from_formula(\"trip_duration ~ {}\".format(features), data=test)\n",
    "result = model.fit()\n",
    "result.summary()"
   ]
  },
  {
   "cell_type": "code",
   "execution_count": 20,
   "metadata": {},
   "outputs": [
    {
     "data": {
      "image/png": "[encoded data removed]",
      "text/plain": [
       "<matplotlib.figure.Figure at 0x7f0ec0231080>"
      ]
     },
     "metadata": {
      "image/png": {
       "height": 248,
       "width": 388
      }
     },
     "output_type": "display_data"
    }
   ],
   "source": [
    "X = dmatrix(\"{}\".format(features), taxi, return_type =\"dataframe\" )\n",
    "predictions = result.predict(X)\n",
    "norm = np.append(norm, np.linalg.norm(predictions-real)/len(X))\n",
    "plt.scatter(real, predictions)\n",
    "plt.show()"
   ]
  },
  {
   "cell_type": "code",
   "execution_count": 21,
   "metadata": {},
   "outputs": [
    {
     "data": {
      "text/plain": [
       "'pick_date + pick_time + dist'"
      ]
     },
     "execution_count": 21,
     "metadata": {},
     "output_type": "execute_result"
    }
   ],
   "source": [
    "features = \" + \".join(list(test.columns)[3:])\n",
    "features"
   ]
  },
  {
   "cell_type": "code",
   "execution_count": 22,
   "metadata": {},
   "outputs": [
    {
     "data": {
      "text/html": [
       "<table class=\"simpletable\">\n",
       "<caption>OLS Regression Results</caption>\n",
       "<tr>\n",
       "  <th>Dep. Variable:</th>      <td>trip_duration</td>  <th>  R-squared:         </th>  <td>   0.028</td>  \n",
       "</tr>\n",
       "<tr>\n",
       "  <th>Model:</th>                   <td>OLS</td>       <th>  Adj. R-squared:    </th>  <td>   0.028</td>  \n",
       "</tr>\n",
       "<tr>\n",
       "  <th>Method:</th>             <td>Least Squares</td>  <th>  F-statistic:       </th>  <td>   4615.</td>  \n",
       "</tr>\n",
       "<tr>\n",
       "  <th>Date:</th>             <td>Mon, 05 Mar 2018</td> <th>  Prob (F-statistic):</th>   <td>  0.00</td>   \n",
       "</tr>\n",
       "<tr>\n",
       "  <th>Time:</th>                 <td>23:14:50</td>     <th>  Log-Likelihood:    </th> <td>-1.3807e+07</td>\n",
       "</tr>\n",
       "<tr>\n",
       "  <th>No. Observations:</th>      <td>1458406</td>     <th>  AIC:               </th>  <td>2.761e+07</td> \n",
       "</tr>\n",
       "<tr>\n",
       "  <th>Df Residuals:</th>          <td>1458396</td>     <th>  BIC:               </th>  <td>2.761e+07</td> \n",
       "</tr>\n",
       "<tr>\n",
       "  <th>Df Model:</th>              <td>     9</td>      <th>                     </th>      <td> </td>     \n",
       "</tr>\n",
       "<tr>\n",
       "  <th>Covariance Type:</th>      <td>nonrobust</td>    <th>                     </th>      <td> </td>     \n",
       "</tr>\n",
       "</table>\n",
       "<table class=\"simpletable\">\n",
       "<tr>\n",
       "          <td></td>             <th>coef</th>     <th>std err</th>      <th>t</th>      <th>P>|t|</th>  <th>[0.025</th>    <th>0.975]</th>  \n",
       "</tr>\n",
       "<tr>\n",
       "  <th>Intercept</th>         <td>  309.9062</td> <td>   10.649</td> <td>   29.103</td> <td> 0.000</td> <td>  289.035</td> <td>  330.777</td>\n",
       "</tr>\n",
       "<tr>\n",
       "  <th>C(weekday)[T.1.0]</th> <td>   93.0156</td> <td>   10.023</td> <td>    9.280</td> <td> 0.000</td> <td>   73.370</td> <td>  112.661</td>\n",
       "</tr>\n",
       "<tr>\n",
       "  <th>C(weekday)[T.2.0]</th> <td>  106.2401</td> <td>    9.939</td> <td>   10.690</td> <td> 0.000</td> <td>   86.761</td> <td>  125.719</td>\n",
       "</tr>\n",
       "<tr>\n",
       "  <th>C(weekday)[T.3.0]</th> <td>  126.2413</td> <td>    9.848</td> <td>   12.819</td> <td> 0.000</td> <td>  106.940</td> <td>  145.542</td>\n",
       "</tr>\n",
       "<tr>\n",
       "  <th>C(weekday)[T.4.0]</th> <td>  118.4083</td> <td>    9.799</td> <td>   12.084</td> <td> 0.000</td> <td>   99.203</td> <td>  137.614</td>\n",
       "</tr>\n",
       "<tr>\n",
       "  <th>C(weekday)[T.5.0]</th> <td>   59.8866</td> <td>    9.830</td> <td>    6.092</td> <td> 0.000</td> <td>   40.620</td> <td>   79.153</td>\n",
       "</tr>\n",
       "<tr>\n",
       "  <th>C(weekday)[T.6.0]</th> <td>   -9.5470</td> <td>   10.139</td> <td>   -0.942</td> <td> 0.346</td> <td>  -29.420</td> <td>   10.326</td>\n",
       "</tr>\n",
       "<tr>\n",
       "  <th>pick_date</th>         <td>    0.6489</td> <td>    0.050</td> <td>   12.910</td> <td> 0.000</td> <td>    0.550</td> <td>    0.747</td>\n",
       "</tr>\n",
       "<tr>\n",
       "  <th>pick_time</th>         <td>    0.0011</td> <td>    0.000</td> <td>    9.569</td> <td> 0.000</td> <td>    0.001</td> <td>    0.001</td>\n",
       "</tr>\n",
       "<tr>\n",
       "  <th>dist</th>              <td>  132.8178</td> <td>    0.656</td> <td>  202.438</td> <td> 0.000</td> <td>  131.532</td> <td>  134.104</td>\n",
       "</tr>\n",
       "</table>\n",
       "<table class=\"simpletable\">\n",
       "<tr>\n",
       "  <th>Omnibus:</th>       <td>3557495.213</td> <th>  Durbin-Watson:     </th>    <td>   2.000</td>    \n",
       "</tr>\n",
       "<tr>\n",
       "  <th>Prob(Omnibus):</th>   <td> 0.000</td>    <th>  Jarque-Bera (JB):  </th> <td>30247278871.678</td>\n",
       "</tr>\n",
       "<tr>\n",
       "  <th>Skew:</th>            <td>26.276</td>    <th>  Prob(JB):          </th>    <td>    0.00</td>    \n",
       "</tr>\n",
       "<tr>\n",
       "  <th>Kurtosis:</th>        <td>706.560</td>   <th>  Cond. No.          </th>    <td>4.39e+05</td>    \n",
       "</tr>\n",
       "</table>"
      ],
      "text/plain": [
       "<class 'statsmodels.iolib.summary.Summary'>\n",
       "\"\"\"\n",
       "                            OLS Regression Results                            \n",
       "==============================================================================\n",
       "Dep. Variable:          trip_duration   R-squared:                       0.028\n",
       "Model:                            OLS   Adj. R-squared:                  0.028\n",
       "Method:                 Least Squares   F-statistic:                     4615.\n",
       "Date:                Mon, 05 Mar 2018   Prob (F-statistic):               0.00\n",
       "Time:                        23:14:50   Log-Likelihood:            -1.3807e+07\n",
       "No. Observations:             1458406   AIC:                         2.761e+07\n",
       "Df Residuals:                 1458396   BIC:                         2.761e+07\n",
       "Df Model:                           9                                         \n",
       "Covariance Type:            nonrobust                                         \n",
       "=====================================================================================\n",
       "                        coef    std err          t      P>|t|      [0.025      0.975]\n",
       "-------------------------------------------------------------------------------------\n",
       "Intercept           309.9062     10.649     29.103      0.000     289.035     330.777\n",
       "C(weekday)[T.1.0]    93.0156     10.023      9.280      0.000      73.370     112.661\n",
       "C(weekday)[T.2.0]   106.2401      9.939     10.690      0.000      86.761     125.719\n",
       "C(weekday)[T.3.0]   126.2413      9.848     12.819      0.000     106.940     145.542\n",
       "C(weekday)[T.4.0]   118.4083      9.799     12.084      0.000      99.203     137.614\n",
       "C(weekday)[T.5.0]    59.8866      9.830      6.092      0.000      40.620      79.153\n",
       "C(weekday)[T.6.0]    -9.5470     10.139     -0.942      0.346     -29.420      10.326\n",
       "pick_date             0.6489      0.050     12.910      0.000       0.550       0.747\n",
       "pick_time             0.0011      0.000      9.569      0.000       0.001       0.001\n",
       "dist                132.8178      0.656    202.438      0.000     131.532     134.104\n",
       "==============================================================================\n",
       "Omnibus:                  3557495.213   Durbin-Watson:                   2.000\n",
       "Prob(Omnibus):                  0.000   Jarque-Bera (JB):      30247278871.678\n",
       "Skew:                          26.276   Prob(JB):                         0.00\n",
       "Kurtosis:                     706.560   Cond. No.                     4.39e+05\n",
       "==============================================================================\n",
       "\n",
       "Warnings:\n",
       "[1] Standard Errors assume that the covariance matrix of the errors is correctly specified.\n",
       "[2] The condition number is large, 4.39e+05. This might indicate that there are\n",
       "strong multicollinearity or other numerical problems.\n",
       "\"\"\""
      ]
     },
     "execution_count": 22,
     "metadata": {},
     "output_type": "execute_result"
    }
   ],
   "source": [
    "# weekday를 카테고리 형태로 입력\n",
    "model =  sm.OLS.from_formula(\"trip_duration ~ C(weekday) + {}\".format(features), data=test)\n",
    "result = model.fit()\n",
    "result.summary()"
   ]
  },
  {
   "cell_type": "markdown",
   "metadata": {},
   "source": [
    "---"
   ]
  },
  {
   "cell_type": "markdown",
   "metadata": {},
   "source": [
    "# Strict"
   ]
  },
  {
   "cell_type": "code",
   "execution_count": 23,
   "metadata": {
    "collapsed": true
   },
   "outputs": [],
   "source": [
    "taxi2 = taxi2[taxi2['trip_duration']<7200] # 2시간이상 탑승 제거\n",
    "taxi2 = taxi2[taxi2['dist']<180] #180km 이상 이동 제거\n",
    "taxi = taxi2[taxi2['velo']<60].reset_index(drop=True) # 속도 60이상 삭제"
   ]
  },
  {
   "cell_type": "code",
   "execution_count": 24,
   "metadata": {
    "collapsed": true,
    "scrolled": true
   },
   "outputs": [],
   "source": [
    "# new one\n",
    "test = dmatrix(\"trip_duration + weekday + pick_date + pick_time  + dist\", taxi, return_type =\"dataframe\" ) \n",
    "real = test.loc[:, \"trip_duration\"] #정답"
   ]
  },
  {
   "cell_type": "code",
   "execution_count": 25,
   "metadata": {},
   "outputs": [
    {
     "data": {
      "text/plain": [
       "'pick_date + pick_time + dist'"
      ]
     },
     "execution_count": 25,
     "metadata": {},
     "output_type": "execute_result"
    }
   ],
   "source": [
    "features = \" + \".join(list(test.columns)[3:])\n",
    "features"
   ]
  },
  {
   "cell_type": "code",
   "execution_count": 26,
   "metadata": {},
   "outputs": [
    {
     "data": {
      "text/html": [
       "<table class=\"simpletable\">\n",
       "<caption>OLS Regression Results</caption>\n",
       "<tr>\n",
       "  <th>Dep. Variable:</th>      <td>trip_duration</td>  <th>  R-squared:         </th>  <td>   0.600</td>  \n",
       "</tr>\n",
       "<tr>\n",
       "  <th>Model:</th>                   <td>OLS</td>       <th>  Adj. R-squared:    </th>  <td>   0.600</td>  \n",
       "</tr>\n",
       "<tr>\n",
       "  <th>Method:</th>             <td>Least Squares</td>  <th>  F-statistic:       </th>  <td>7.275e+05</td> \n",
       "</tr>\n",
       "<tr>\n",
       "  <th>Date:</th>             <td>Mon, 05 Mar 2018</td> <th>  Prob (F-statistic):</th>   <td>  0.00</td>   \n",
       "</tr>\n",
       "<tr>\n",
       "  <th>Time:</th>                 <td>23:14:53</td>     <th>  Log-Likelihood:    </th> <td>-1.0837e+07</td>\n",
       "</tr>\n",
       "<tr>\n",
       "  <th>No. Observations:</th>      <td>1455708</td>     <th>  AIC:               </th>  <td>2.167e+07</td> \n",
       "</tr>\n",
       "<tr>\n",
       "  <th>Df Residuals:</th>          <td>1455704</td>     <th>  BIC:               </th>  <td>2.167e+07</td> \n",
       "</tr>\n",
       "<tr>\n",
       "  <th>Df Model:</th>              <td>     3</td>      <th>                     </th>      <td> </td>     \n",
       "</tr>\n",
       "<tr>\n",
       "  <th>Covariance Type:</th>      <td>nonrobust</td>    <th>                     </th>      <td> </td>     \n",
       "</tr>\n",
       "</table>\n",
       "<table class=\"simpletable\">\n",
       "<tr>\n",
       "      <td></td>         <th>coef</th>     <th>std err</th>      <th>t</th>      <th>P>|t|</th>  <th>[0.025</th>    <th>0.975]</th>  \n",
       "</tr>\n",
       "<tr>\n",
       "  <th>Intercept</th> <td>  278.7269</td> <td>    1.071</td> <td>  260.134</td> <td> 0.000</td> <td>  276.627</td> <td>  280.827</td>\n",
       "</tr>\n",
       "<tr>\n",
       "  <th>pick_date</th> <td>    0.5951</td> <td>    0.007</td> <td>   89.459</td> <td> 0.000</td> <td>    0.582</td> <td>    0.608</td>\n",
       "</tr>\n",
       "<tr>\n",
       "  <th>pick_time</th> <td>    0.0012</td> <td> 1.49e-05</td> <td>   82.163</td> <td> 0.000</td> <td>    0.001</td> <td>    0.001</td>\n",
       "</tr>\n",
       "<tr>\n",
       "  <th>dist</th>      <td>  128.7310</td> <td>    0.087</td> <td> 1471.734</td> <td> 0.000</td> <td>  128.560</td> <td>  128.902</td>\n",
       "</tr>\n",
       "</table>\n",
       "<table class=\"simpletable\">\n",
       "<tr>\n",
       "  <th>Omnibus:</th>       <td>610353.344</td> <th>  Durbin-Watson:     </th>  <td>   2.000</td>  \n",
       "</tr>\n",
       "<tr>\n",
       "  <th>Prob(Omnibus):</th>   <td> 0.000</td>   <th>  Jarque-Bera (JB):  </th> <td>7458732.428</td>\n",
       "</tr>\n",
       "<tr>\n",
       "  <th>Skew:</th>            <td> 1.684</td>   <th>  Prob(JB):          </th>  <td>    0.00</td>  \n",
       "</tr>\n",
       "<tr>\n",
       "  <th>Kurtosis:</th>        <td>13.566</td>   <th>  Cond. No.          </th>  <td>1.74e+05</td>  \n",
       "</tr>\n",
       "</table>"
      ],
      "text/plain": [
       "<class 'statsmodels.iolib.summary.Summary'>\n",
       "\"\"\"\n",
       "                            OLS Regression Results                            \n",
       "==============================================================================\n",
       "Dep. Variable:          trip_duration   R-squared:                       0.600\n",
       "Model:                            OLS   Adj. R-squared:                  0.600\n",
       "Method:                 Least Squares   F-statistic:                 7.275e+05\n",
       "Date:                Mon, 05 Mar 2018   Prob (F-statistic):               0.00\n",
       "Time:                        23:14:53   Log-Likelihood:            -1.0837e+07\n",
       "No. Observations:             1455708   AIC:                         2.167e+07\n",
       "Df Residuals:                 1455704   BIC:                         2.167e+07\n",
       "Df Model:                           3                                         \n",
       "Covariance Type:            nonrobust                                         \n",
       "==============================================================================\n",
       "                 coef    std err          t      P>|t|      [0.025      0.975]\n",
       "------------------------------------------------------------------------------\n",
       "Intercept    278.7269      1.071    260.134      0.000     276.627     280.827\n",
       "pick_date      0.5951      0.007     89.459      0.000       0.582       0.608\n",
       "pick_time      0.0012   1.49e-05     82.163      0.000       0.001       0.001\n",
       "dist         128.7310      0.087   1471.734      0.000     128.560     128.902\n",
       "==============================================================================\n",
       "Omnibus:                   610353.344   Durbin-Watson:                   2.000\n",
       "Prob(Omnibus):                  0.000   Jarque-Bera (JB):          7458732.428\n",
       "Skew:                           1.684   Prob(JB):                         0.00\n",
       "Kurtosis:                      13.566   Cond. No.                     1.74e+05\n",
       "==============================================================================\n",
       "\n",
       "Warnings:\n",
       "[1] Standard Errors assume that the covariance matrix of the errors is correctly specified.\n",
       "[2] The condition number is large, 1.74e+05. This might indicate that there are\n",
       "strong multicollinearity or other numerical problems.\n",
       "\"\"\""
      ]
     },
     "execution_count": 26,
     "metadata": {},
     "output_type": "execute_result"
    }
   ],
   "source": [
    "model =  sm.OLS.from_formula(\"trip_duration ~ {}\".format(features), data=test)\n",
    "result = model.fit()\n",
    "result.summary() "
   ]
  },
  {
   "cell_type": "code",
   "execution_count": 27,
   "metadata": {},
   "outputs": [],
   "source": [
    "X = dmatrix(\"{}\".format(features), taxi, return_type =\"dataframe\" )\n",
    "predictions = result.predict(X)\n",
    "norm = np.append(norm, np.linalg.norm(predictions-real)/len(X))"
   ]
  },
  {
   "cell_type": "code",
   "execution_count": 28,
   "metadata": {},
   "outputs": [
    {
     "data": {
      "text/plain": [
       "array([ 4.31690768,  2.58995573,  2.58995084,  0.34296385])"
      ]
     },
     "execution_count": 28,
     "metadata": {},
     "output_type": "execute_result"
    }
   ],
   "source": [
    "norm"
   ]
  },
  {
   "cell_type": "markdown",
   "metadata": {},
   "source": [
    "# weekday +"
   ]
  },
  {
   "cell_type": "code",
   "execution_count": 29,
   "metadata": {},
   "outputs": [
    {
     "data": {
      "text/plain": [
       "'weekday + pick_date + pick_time + dist'"
      ]
     },
     "execution_count": 29,
     "metadata": {},
     "output_type": "execute_result"
    }
   ],
   "source": [
    "features = \" + \".join(list(test.columns)[2:])\n",
    "features"
   ]
  },
  {
   "cell_type": "code",
   "execution_count": 30,
   "metadata": {},
   "outputs": [
    {
     "data": {
      "text/html": [
       "<table class=\"simpletable\">\n",
       "<caption>OLS Regression Results</caption>\n",
       "<tr>\n",
       "  <th>Dep. Variable:</th>      <td>trip_duration</td>  <th>  R-squared:         </th>  <td>   0.601</td>  \n",
       "</tr>\n",
       "<tr>\n",
       "  <th>Model:</th>                   <td>OLS</td>       <th>  Adj. R-squared:    </th>  <td>   0.601</td>  \n",
       "</tr>\n",
       "<tr>\n",
       "  <th>Method:</th>             <td>Least Squares</td>  <th>  F-statistic:       </th>  <td>5.487e+05</td> \n",
       "</tr>\n",
       "<tr>\n",
       "  <th>Date:</th>             <td>Mon, 05 Mar 2018</td> <th>  Prob (F-statistic):</th>   <td>  0.00</td>   \n",
       "</tr>\n",
       "<tr>\n",
       "  <th>Time:</th>                 <td>23:14:54</td>     <th>  Log-Likelihood:    </th> <td>-1.0834e+07</td>\n",
       "</tr>\n",
       "<tr>\n",
       "  <th>No. Observations:</th>      <td>1455708</td>     <th>  AIC:               </th>  <td>2.167e+07</td> \n",
       "</tr>\n",
       "<tr>\n",
       "  <th>Df Residuals:</th>          <td>1455703</td>     <th>  BIC:               </th>  <td>2.167e+07</td> \n",
       "</tr>\n",
       "<tr>\n",
       "  <th>Df Model:</th>              <td>     4</td>      <th>                     </th>      <td> </td>     \n",
       "</tr>\n",
       "<tr>\n",
       "  <th>Covariance Type:</th>      <td>nonrobust</td>    <th>                     </th>      <td> </td>     \n",
       "</tr>\n",
       "</table>\n",
       "<table class=\"simpletable\">\n",
       "<tr>\n",
       "      <td></td>         <th>coef</th>     <th>std err</th>      <th>t</th>      <th>P>|t|</th>  <th>[0.025</th>    <th>0.975]</th>  \n",
       "</tr>\n",
       "<tr>\n",
       "  <th>Intercept</th> <td>  321.0422</td> <td>    1.230</td> <td>  261.090</td> <td> 0.000</td> <td>  318.632</td> <td>  323.452</td>\n",
       "</tr>\n",
       "<tr>\n",
       "  <th>weekday</th>   <td>  -12.2726</td> <td>    0.176</td> <td>  -69.780</td> <td> 0.000</td> <td>  -12.617</td> <td>  -11.928</td>\n",
       "</tr>\n",
       "<tr>\n",
       "  <th>pick_date</th> <td>    0.5885</td> <td>    0.007</td> <td>   88.612</td> <td> 0.000</td> <td>    0.576</td> <td>    0.602</td>\n",
       "</tr>\n",
       "<tr>\n",
       "  <th>pick_time</th> <td>    0.0011</td> <td> 1.49e-05</td> <td>   76.149</td> <td> 0.000</td> <td>    0.001</td> <td>    0.001</td>\n",
       "</tr>\n",
       "<tr>\n",
       "  <th>dist</th>      <td>  128.7741</td> <td>    0.087</td> <td> 1474.649</td> <td> 0.000</td> <td>  128.603</td> <td>  128.945</td>\n",
       "</tr>\n",
       "</table>\n",
       "<table class=\"simpletable\">\n",
       "<tr>\n",
       "  <th>Omnibus:</th>       <td>608755.686</td> <th>  Durbin-Watson:     </th>  <td>   2.000</td>  \n",
       "</tr>\n",
       "<tr>\n",
       "  <th>Prob(Omnibus):</th>   <td> 0.000</td>   <th>  Jarque-Bera (JB):  </th> <td>7501378.692</td>\n",
       "</tr>\n",
       "<tr>\n",
       "  <th>Skew:</th>            <td> 1.675</td>   <th>  Prob(JB):          </th>  <td>    0.00</td>  \n",
       "</tr>\n",
       "<tr>\n",
       "  <th>Kurtosis:</th>        <td>13.604</td>   <th>  Cond. No.          </th>  <td>2.01e+05</td>  \n",
       "</tr>\n",
       "</table>"
      ],
      "text/plain": [
       "<class 'statsmodels.iolib.summary.Summary'>\n",
       "\"\"\"\n",
       "                            OLS Regression Results                            \n",
       "==============================================================================\n",
       "Dep. Variable:          trip_duration   R-squared:                       0.601\n",
       "Model:                            OLS   Adj. R-squared:                  0.601\n",
       "Method:                 Least Squares   F-statistic:                 5.487e+05\n",
       "Date:                Mon, 05 Mar 2018   Prob (F-statistic):               0.00\n",
       "Time:                        23:14:54   Log-Likelihood:            -1.0834e+07\n",
       "No. Observations:             1455708   AIC:                         2.167e+07\n",
       "Df Residuals:                 1455703   BIC:                         2.167e+07\n",
       "Df Model:                           4                                         \n",
       "Covariance Type:            nonrobust                                         \n",
       "==============================================================================\n",
       "                 coef    std err          t      P>|t|      [0.025      0.975]\n",
       "------------------------------------------------------------------------------\n",
       "Intercept    321.0422      1.230    261.090      0.000     318.632     323.452\n",
       "weekday      -12.2726      0.176    -69.780      0.000     -12.617     -11.928\n",
       "pick_date      0.5885      0.007     88.612      0.000       0.576       0.602\n",
       "pick_time      0.0011   1.49e-05     76.149      0.000       0.001       0.001\n",
       "dist         128.7741      0.087   1474.649      0.000     128.603     128.945\n",
       "==============================================================================\n",
       "Omnibus:                   608755.686   Durbin-Watson:                   2.000\n",
       "Prob(Omnibus):                  0.000   Jarque-Bera (JB):          7501378.692\n",
       "Skew:                           1.675   Prob(JB):                         0.00\n",
       "Kurtosis:                      13.604   Cond. No.                     2.01e+05\n",
       "==============================================================================\n",
       "\n",
       "Warnings:\n",
       "[1] Standard Errors assume that the covariance matrix of the errors is correctly specified.\n",
       "[2] The condition number is large, 2.01e+05. This might indicate that there are\n",
       "strong multicollinearity or other numerical problems.\n",
       "\"\"\""
      ]
     },
     "execution_count": 30,
     "metadata": {},
     "output_type": "execute_result"
    }
   ],
   "source": [
    "model =  sm.OLS.from_formula(\"trip_duration ~ {}\".format(features), data=test)\n",
    "result = model.fit()\n",
    "result.summary() "
   ]
  },
  {
   "cell_type": "code",
   "execution_count": 31,
   "metadata": {},
   "outputs": [
    {
     "data": {
      "image/png": "[encoded data removed]",
      "text/plain": [
       "<matplotlib.figure.Figure at 0x7f0ec29b45c0>"
      ]
     },
     "metadata": {
      "image/png": {
       "height": 249,
       "width": 388
      }
     },
     "output_type": "display_data"
    }
   ],
   "source": [
    "X = dmatrix(\"{}\".format(features), taxi, return_type =\"dataframe\" )\n",
    "predictions = result.predict(X)\n",
    "norm = np.append(norm, np.linalg.norm(predictions-real)/len(X))\n",
    "plt.scatter(real, predictions)\n",
    "plt.show()"
   ]
  },
  {
   "cell_type": "code",
   "execution_count": 32,
   "metadata": {},
   "outputs": [
    {
     "data": {
      "text/plain": [
       "'pick_date + pick_time + dist'"
      ]
     },
     "execution_count": 32,
     "metadata": {},
     "output_type": "execute_result"
    }
   ],
   "source": [
    "features = \" + \".join(list(test.columns)[3:])\n",
    "features"
   ]
  },
  {
   "cell_type": "code",
   "execution_count": 33,
   "metadata": {},
   "outputs": [
    {
     "data": {
      "text/html": [
       "<table class=\"simpletable\">\n",
       "<caption>OLS Regression Results</caption>\n",
       "<tr>\n",
       "  <th>Dep. Variable:</th>      <td>trip_duration</td>  <th>  R-squared:         </th>  <td>   0.607</td>  \n",
       "</tr>\n",
       "<tr>\n",
       "  <th>Model:</th>                   <td>OLS</td>       <th>  Adj. R-squared:    </th>  <td>   0.607</td>  \n",
       "</tr>\n",
       "<tr>\n",
       "  <th>Method:</th>             <td>Least Squares</td>  <th>  F-statistic:       </th>  <td>2.503e+05</td> \n",
       "</tr>\n",
       "<tr>\n",
       "  <th>Date:</th>             <td>Mon, 05 Mar 2018</td> <th>  Prob (F-statistic):</th>   <td>  0.00</td>   \n",
       "</tr>\n",
       "<tr>\n",
       "  <th>Time:</th>                 <td>23:15:34</td>     <th>  Log-Likelihood:    </th> <td>-1.0823e+07</td>\n",
       "</tr>\n",
       "<tr>\n",
       "  <th>No. Observations:</th>      <td>1455708</td>     <th>  AIC:               </th>  <td>2.165e+07</td> \n",
       "</tr>\n",
       "<tr>\n",
       "  <th>Df Residuals:</th>          <td>1455698</td>     <th>  BIC:               </th>  <td>2.165e+07</td> \n",
       "</tr>\n",
       "<tr>\n",
       "  <th>Df Model:</th>              <td>     9</td>      <th>                     </th>      <td> </td>     \n",
       "</tr>\n",
       "<tr>\n",
       "  <th>Covariance Type:</th>      <td>nonrobust</td>    <th>                     </th>      <td> </td>     \n",
       "</tr>\n",
       "</table>\n",
       "<table class=\"simpletable\">\n",
       "<tr>\n",
       "          <td></td>             <th>coef</th>     <th>std err</th>      <th>t</th>      <th>P>|t|</th>  <th>[0.025</th>    <th>0.975]</th>  \n",
       "</tr>\n",
       "<tr>\n",
       "  <th>Intercept</th>         <td>  244.5975</td> <td>    1.397</td> <td>  175.064</td> <td> 0.000</td> <td>  241.859</td> <td>  247.336</td>\n",
       "</tr>\n",
       "<tr>\n",
       "  <th>C(weekday)[T.1.0]</th> <td>   72.2936</td> <td>    1.315</td> <td>   54.986</td> <td> 0.000</td> <td>   69.717</td> <td>   74.870</td>\n",
       "</tr>\n",
       "<tr>\n",
       "  <th>C(weekday)[T.2.0]</th> <td>   97.1238</td> <td>    1.304</td> <td>   74.504</td> <td> 0.000</td> <td>   94.569</td> <td>   99.679</td>\n",
       "</tr>\n",
       "<tr>\n",
       "  <th>C(weekday)[T.3.0]</th> <td>  104.3622</td> <td>    1.292</td> <td>   80.793</td> <td> 0.000</td> <td>  101.830</td> <td>  106.894</td>\n",
       "</tr>\n",
       "<tr>\n",
       "  <th>C(weekday)[T.4.0]</th> <td>   81.6938</td> <td>    1.285</td> <td>   63.558</td> <td> 0.000</td> <td>   79.175</td> <td>   84.213</td>\n",
       "</tr>\n",
       "<tr>\n",
       "  <th>C(weekday)[T.5.0]</th> <td>    2.4740</td> <td>    1.290</td> <td>    1.918</td> <td> 0.055</td> <td>   -0.053</td> <td>    5.001</td>\n",
       "</tr>\n",
       "<tr>\n",
       "  <th>C(weekday)[T.6.0]</th> <td>  -60.4684</td> <td>    1.330</td> <td>  -45.459</td> <td> 0.000</td> <td>  -63.075</td> <td>  -57.861</td>\n",
       "</tr>\n",
       "<tr>\n",
       "  <th>pick_date</th>         <td>    0.5838</td> <td>    0.007</td> <td>   88.544</td> <td> 0.000</td> <td>    0.571</td> <td>    0.597</td>\n",
       "</tr>\n",
       "<tr>\n",
       "  <th>pick_time</th>         <td>    0.0010</td> <td> 1.48e-05</td> <td>   68.591</td> <td> 0.000</td> <td>    0.001</td> <td>    0.001</td>\n",
       "</tr>\n",
       "<tr>\n",
       "  <th>dist</th>              <td>  129.0671</td> <td>    0.087</td> <td> 1488.895</td> <td> 0.000</td> <td>  128.897</td> <td>  129.237</td>\n",
       "</tr>\n",
       "</table>\n",
       "<table class=\"simpletable\">\n",
       "<tr>\n",
       "  <th>Omnibus:</th>       <td>605764.391</td> <th>  Durbin-Watson:     </th>  <td>   2.000</td>  \n",
       "</tr>\n",
       "<tr>\n",
       "  <th>Prob(Omnibus):</th>   <td> 0.000</td>   <th>  Jarque-Bera (JB):  </th> <td>7671405.643</td>\n",
       "</tr>\n",
       "<tr>\n",
       "  <th>Skew:</th>            <td> 1.656</td>   <th>  Prob(JB):          </th>  <td>    0.00</td>  \n",
       "</tr>\n",
       "<tr>\n",
       "  <th>Kurtosis:</th>        <td>13.747</td>   <th>  Cond. No.          </th>  <td>4.39e+05</td>  \n",
       "</tr>\n",
       "</table>"
      ],
      "text/plain": [
       "<class 'statsmodels.iolib.summary.Summary'>\n",
       "\"\"\"\n",
       "                            OLS Regression Results                            \n",
       "==============================================================================\n",
       "Dep. Variable:          trip_duration   R-squared:                       0.607\n",
       "Model:                            OLS   Adj. R-squared:                  0.607\n",
       "Method:                 Least Squares   F-statistic:                 2.503e+05\n",
       "Date:                Mon, 05 Mar 2018   Prob (F-statistic):               0.00\n",
       "Time:                        23:15:34   Log-Likelihood:            -1.0823e+07\n",
       "No. Observations:             1455708   AIC:                         2.165e+07\n",
       "Df Residuals:                 1455698   BIC:                         2.165e+07\n",
       "Df Model:                           9                                         \n",
       "Covariance Type:            nonrobust                                         \n",
       "=====================================================================================\n",
       "                        coef    std err          t      P>|t|      [0.025      0.975]\n",
       "-------------------------------------------------------------------------------------\n",
       "Intercept           244.5975      1.397    175.064      0.000     241.859     247.336\n",
       "C(weekday)[T.1.0]    72.2936      1.315     54.986      0.000      69.717      74.870\n",
       "C(weekday)[T.2.0]    97.1238      1.304     74.504      0.000      94.569      99.679\n",
       "C(weekday)[T.3.0]   104.3622      1.292     80.793      0.000     101.830     106.894\n",
       "C(weekday)[T.4.0]    81.6938      1.285     63.558      0.000      79.175      84.213\n",
       "C(weekday)[T.5.0]     2.4740      1.290      1.918      0.055      -0.053       5.001\n",
       "C(weekday)[T.6.0]   -60.4684      1.330    -45.459      0.000     -63.075     -57.861\n",
       "pick_date             0.5838      0.007     88.544      0.000       0.571       0.597\n",
       "pick_time             0.0010   1.48e-05     68.591      0.000       0.001       0.001\n",
       "dist                129.0671      0.087   1488.895      0.000     128.897     129.237\n",
       "==============================================================================\n",
       "Omnibus:                   605764.391   Durbin-Watson:                   2.000\n",
       "Prob(Omnibus):                  0.000   Jarque-Bera (JB):          7671405.643\n",
       "Skew:                           1.656   Prob(JB):                         0.00\n",
       "Kurtosis:                      13.747   Cond. No.                     4.39e+05\n",
       "==============================================================================\n",
       "\n",
       "Warnings:\n",
       "[1] Standard Errors assume that the covariance matrix of the errors is correctly specified.\n",
       "[2] The condition number is large, 4.39e+05. This might indicate that there are\n",
       "strong multicollinearity or other numerical problems.\n",
       "\"\"\""
      ]
     },
     "execution_count": 33,
     "metadata": {},
     "output_type": "execute_result"
    }
   ],
   "source": [
    "# weekday를 카테고리 형태로 입력\n",
    "model =  sm.OLS.from_formula(\"trip_duration ~ C(weekday) + {}\".format(features), data=test)\n",
    "result = model.fit()\n",
    "result.summary()"
   ]
  },
  {
   "cell_type": "markdown",
   "metadata": {},
   "source": [
    "---"
   ]
  },
  {
   "cell_type": "code",
   "execution_count": 34,
   "metadata": {},
   "outputs": [
    {
     "name": "stdout",
     "output_type": "stream",
     "text": [
      "[ 4.31690768  2.58995573  2.58995084  0.34296385  0.34239169]\n"
     ]
    },
    {
     "data": {
      "image/png": "[encoded data removed]",
      "text/plain": [
       "<matplotlib.figure.Figure at 0x7f0eb86e1710>"
      ]
     },
     "metadata": {
      "image/png": {
       "height": 263,
       "width": 372
      }
     },
     "output_type": "display_data"
    }
   ],
   "source": [
    "plt.plot(norm,'--sr')\n",
    "plt.title(\"norm/N of predictions-real gap\")\n",
    "print(norm)\n",
    "plt.show()"
   ]
  },
  {
   "cell_type": "markdown",
   "metadata": {},
   "source": [
    "---"
   ]
  },
  {
   "cell_type": "markdown",
   "metadata": {},
   "source": [
    "## Outlier 제거"
   ]
  },
  {
   "cell_type": "code",
   "execution_count": 35,
   "metadata": {},
   "outputs": [],
   "source": [
    "influence = result.get_influence()\n",
    "hat = influence.hat_matrix_diag\n",
    "# plt.stem(hat) 140만개는 불가능....\n",
    "# plt.show()"
   ]
  },
  {
   "cell_type": "code",
   "execution_count": 36,
   "metadata": {},
   "outputs": [],
   "source": [
    "# sm.graphics.influence_plot(result, plot_alpha=0.3) # 버블크기로 표시\n",
    "# plt.show()"
   ]
  },
  {
   "cell_type": "code",
   "execution_count": 37,
   "metadata": {},
   "outputs": [],
   "source": [
    "# fox_cr = 4 / (len(tx) - len(test.columns) - 1)\n",
    "# cooks_d2, pvals = influence.cooks_distance\n",
    "# idx = np.where(cooks_d2 > fox_cr)[0]\n",
    "# idx # outlier 위치 \n",
    "# print(len(idx))\n",
    "# tx.drop(idx)\n",
    "# tx.reset_index(drop=True, inplace=True)"
   ]
  }
 ],
 "metadata": {
  "kernelspec": {
   "display_name": "Python 3",
   "language": "python",
   "name": "python3"
  },
  "language_info": {
   "codemirror_mode": {
    "name": "ipython",
    "version": 3
   },
   "file_extension": ".py",
   "mimetype": "text/x-python",
   "name": "python",
   "nbconvert_exporter": "python",
   "pygments_lexer": "ipython3",
   "version": "3.6.4"
  }
 },
 "nbformat": 4,
 "nbformat_minor": 2
}
