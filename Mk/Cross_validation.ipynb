{
 "cells": [
  {
   "cell_type": "code",
   "execution_count": 1,
   "metadata": {},
   "outputs": [],
   "source": [
    "from sklearn.model_selection import KFold\n",
    "\n",
    "taxi = pd.read_csv(\"edited_taxi.csv\")"
   ]
  },
  {
   "cell_type": "code",
   "execution_count": 2,
   "metadata": {},
   "outputs": [],
   "source": [
    "def storage(result, remark) :\n",
    "    \"\"\"\n",
    "    회귀분석 결과 모음 \n",
    "    \n",
    "    전역변수로 아래 데이터 프레임 선언\n",
    "    result_sets = pd.DataFrame(columns = [\"R square\", \"AIC\", \"BIC\", \"P_fstatics\", \"P_omnibus\", \"P_jb\", \"Cond_no\", \"changed\"])\n",
    "\n",
    "    Variables_name.fit() 상태로 삽입\n",
    "    ex)result = model.fit() 이면\n",
    "    result를 삽입    \n",
    "    \n",
    "    remark = 이전 데이터 셋에서 무엇을 변화시켰는지 적을 것.\n",
    "    \"\"\"    \n",
    "    from statsmodels.stats.stattools import durbin_watson\n",
    "    result.summary()\n",
    "    put = {\n",
    "        \"R-square\" :round(result.rsquared, 3),\n",
    "        \"AIC\" : round(result.aic, 3),\n",
    "        \"BIC\" : round(result.bic, 3),\n",
    "        \"Pb(Fstatics)\" : round(result.f_pvalue, 3),\n",
    "        \"Pb(omnibus)\" : round(result.diagn['omnipv'], 3),\n",
    "        \"Pb(jb)\" : round(result.diagn['jbpv'], 3),\n",
    "        \"Cond.No.\" : round(result.diagn['condno'], 3), \n",
    "        \"Dub-Wat\": round(durbin_watson(result.wresid), 3),\n",
    "        \"Remarks\" : remark,\n",
    "    }\n",
    "    \n",
    "    result_sets.loc[len(result_sets)] = put"
   ]
  },
  {
   "cell_type": "code",
   "execution_count": 3,
   "metadata": {},
   "outputs": [],
   "source": [
    "cv = KFold(n_splits=3, shuffle=True, random_state=0)\n",
    "predict_set = pd.DataFrame()\n",
    "result_sets = pd.DataFrame(\n",
    "    columns = [\"R-square\", \"AIC\", \"BIC\", \"Cond.No.\",\"Remarks\",\n",
    "                       \"Pb(Fstatics)\", \"Pb(omnibus)\", \"Pb(jb)\", \"Dub-Wat\"])"
   ]
  },
  {
   "cell_type": "code",
   "execution_count": 4,
   "metadata": {
    "collapsed": true
   },
   "outputs": [],
   "source": [
    "for i, (train_index, test_index) in enumerate(cv.split(taxi)):\n",
    "    model =  sm.OLS.from_formula(\n",
    "        \"np.log(trip_duration) ~ scale(np.log(dist+1))\", data=taxi.iloc[train_index])\n",
    "    result = model.fit()\n",
    "    storage(result, \"test\")\n",
    "    predict_set=pd.concat([predict_set, \n",
    "                           result.predict(taxi.iloc[test_index]).reset_index(drop=True)], \n",
    "                                              axis=1,ignore_index=True)"
   ]
  },
  {
   "cell_type": "code",
   "execution_count": 5,
   "metadata": {},
   "outputs": [
    {
     "data": {
      "text/html": [
       "<div>\n",
       "<style scoped>\n",
       "    .dataframe tbody tr th:only-of-type {\n",
       "        vertical-align: middle;\n",
       "    }\n",
       "\n",
       "    .dataframe tbody tr th {\n",
       "        vertical-align: top;\n",
       "    }\n",
       "\n",
       "    .dataframe thead th {\n",
       "        text-align: right;\n",
       "    }\n",
       "</style>\n",
       "<table border=\"1\" class=\"dataframe\">\n",
       "  <thead>\n",
       "    <tr style=\"text-align: right;\">\n",
       "      <th></th>\n",
       "      <th>R-square</th>\n",
       "      <th>AIC</th>\n",
       "      <th>BIC</th>\n",
       "      <th>Cond.No.</th>\n",
       "      <th>Remarks</th>\n",
       "      <th>Pb(Fstatics)</th>\n",
       "      <th>Pb(omnibus)</th>\n",
       "      <th>Pb(jb)</th>\n",
       "      <th>Dub-Wat</th>\n",
       "    </tr>\n",
       "  </thead>\n",
       "  <tbody>\n",
       "    <tr>\n",
       "      <th>0</th>\n",
       "      <td>0.560</td>\n",
       "      <td>1529894.609</td>\n",
       "      <td>1529918.184</td>\n",
       "      <td>1.0</td>\n",
       "      <td>test</td>\n",
       "      <td>0.0</td>\n",
       "      <td>0.0</td>\n",
       "      <td>0.0</td>\n",
       "      <td>1.998</td>\n",
       "    </tr>\n",
       "    <tr>\n",
       "      <th>1</th>\n",
       "      <td>0.560</td>\n",
       "      <td>1524450.433</td>\n",
       "      <td>1524474.008</td>\n",
       "      <td>1.0</td>\n",
       "      <td>test</td>\n",
       "      <td>0.0</td>\n",
       "      <td>0.0</td>\n",
       "      <td>0.0</td>\n",
       "      <td>1.998</td>\n",
       "    </tr>\n",
       "    <tr>\n",
       "      <th>2</th>\n",
       "      <td>0.561</td>\n",
       "      <td>1522045.237</td>\n",
       "      <td>1522068.812</td>\n",
       "      <td>1.0</td>\n",
       "      <td>test</td>\n",
       "      <td>0.0</td>\n",
       "      <td>0.0</td>\n",
       "      <td>0.0</td>\n",
       "      <td>2.002</td>\n",
       "    </tr>\n",
       "  </tbody>\n",
       "</table>\n",
       "</div>"
      ],
      "text/plain": [
       "   R-square          AIC          BIC  Cond.No. Remarks  Pb(Fstatics)  \\\n",
       "0     0.560  1529894.609  1529918.184       1.0    test           0.0   \n",
       "1     0.560  1524450.433  1524474.008       1.0    test           0.0   \n",
       "2     0.561  1522045.237  1522068.812       1.0    test           0.0   \n",
       "\n",
       "   Pb(omnibus)  Pb(jb)  Dub-Wat  \n",
       "0          0.0     0.0    1.998  \n",
       "1          0.0     0.0    1.998  \n",
       "2          0.0     0.0    2.002  "
      ]
     },
     "execution_count": 5,
     "metadata": {},
     "output_type": "execute_result"
    }
   ],
   "source": [
    "result_sets"
   ]
  },
  {
   "cell_type": "code",
   "execution_count": 6,
   "metadata": {},
   "outputs": [
    {
     "name": "stdout",
     "output_type": "stream",
     "text": [
      "(486215, 3)\n"
     ]
    },
    {
     "data": {
      "text/html": [
       "<div>\n",
       "<style scoped>\n",
       "    .dataframe tbody tr th:only-of-type {\n",
       "        vertical-align: middle;\n",
       "    }\n",
       "\n",
       "    .dataframe tbody tr th {\n",
       "        vertical-align: top;\n",
       "    }\n",
       "\n",
       "    .dataframe thead th {\n",
       "        text-align: right;\n",
       "    }\n",
       "</style>\n",
       "<table border=\"1\" class=\"dataframe\">\n",
       "  <thead>\n",
       "    <tr style=\"text-align: right;\">\n",
       "      <th></th>\n",
       "      <th>0</th>\n",
       "      <th>1</th>\n",
       "      <th>2</th>\n",
       "    </tr>\n",
       "  </thead>\n",
       "  <tbody>\n",
       "    <tr>\n",
       "      <th>0</th>\n",
       "      <td>7.175931</td>\n",
       "      <td>6.141959</td>\n",
       "      <td>6.135458</td>\n",
       "    </tr>\n",
       "    <tr>\n",
       "      <th>1</th>\n",
       "      <td>7.085067</td>\n",
       "      <td>6.252414</td>\n",
       "      <td>6.013979</td>\n",
       "    </tr>\n",
       "    <tr>\n",
       "      <th>2</th>\n",
       "      <td>6.765601</td>\n",
       "      <td>5.975866</td>\n",
       "      <td>6.758605</td>\n",
       "    </tr>\n",
       "    <tr>\n",
       "      <th>3</th>\n",
       "      <td>6.269637</td>\n",
       "      <td>6.073878</td>\n",
       "      <td>6.686951</td>\n",
       "    </tr>\n",
       "    <tr>\n",
       "      <th>4</th>\n",
       "      <td>5.924230</td>\n",
       "      <td>6.067331</td>\n",
       "      <td>6.223149</td>\n",
       "    </tr>\n",
       "  </tbody>\n",
       "</table>\n",
       "</div>"
      ],
      "text/plain": [
       "          0         1         2\n",
       "0  7.175931  6.141959  6.135458\n",
       "1  7.085067  6.252414  6.013979\n",
       "2  6.765601  5.975866  6.758605\n",
       "3  6.269637  6.073878  6.686951\n",
       "4  5.924230  6.067331  6.223149"
      ]
     },
     "execution_count": 6,
     "metadata": {},
     "output_type": "execute_result"
    }
   ],
   "source": [
    "print(predict_set.shape)\n",
    "predict_set.head()"
   ]
  }
 ],
 "metadata": {
  "kernelspec": {
   "display_name": "Python 3",
   "language": "python",
   "name": "python3"
  },
  "language_info": {
   "codemirror_mode": {
    "name": "ipython",
    "version": 3
   },
   "file_extension": ".py",
   "mimetype": "text/x-python",
   "name": "python",
   "nbconvert_exporter": "python",
   "pygments_lexer": "ipython3",
   "version": "3.6.4"
  }
 },
 "nbformat": 4,
 "nbformat_minor": 2
}
