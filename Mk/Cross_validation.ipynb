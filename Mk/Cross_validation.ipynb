{
 "cells": [
  {
   "cell_type": "code",
   "execution_count": 1,
   "metadata": {},
   "outputs": [],
   "source": [
    "from sklearn.model_selection import KFold\n",
    "\n",
    "taxi = pd.read_csv(\"edited_taxi.csv\")"
   ]
  },
  {
   "cell_type": "code",
   "execution_count": null,
   "metadata": {},
   "outputs": [],
   "source": [
    "def storage(result, remark) :\n",
    "    \"\"\"\n",
    "    회귀분석 결과 모음 \n",
    "    \n",
    "    전역변수로 아래 데이터 프레임 선언\n",
    "    result_sets = pd.DataFrame(columns = [\"R square\", \"AIC\", \"BIC\", \"P_fstatics\", \"P_omnibus\", \"P_jb\", \"Cond_no\", \"changed\"])\n",
    "\n",
    "    Variables_name.fit() 상태로 삽입\n",
    "    ex)result = model.fit() 이면\n",
    "    result를 삽입    \n",
    "    \n",
    "    remark = 이전 데이터 셋에서 무엇을 변화시켰는지 적을 것.\n",
    "    \"\"\"    \n",
    "    from statsmodels.stats.stattools import durbin_watson\n",
    "    result.summary()\n",
    "    put = {\n",
    "        \"R-square\" :round(result.rsquared, 3),\n",
    "        \"AIC\" : round(result.aic, 3),\n",
    "        \"BIC\" : round(result.bic, 3),\n",
    "        \"Pb(Fstatics)\" : round(result.f_pvalue, 3),\n",
    "        \"Pb(omnibus)\" : round(result.diagn['omnipv'], 3),\n",
    "        \"Pb(jb)\" : round(result.diagn['jbpv'], 3),\n",
    "        \"Cond.No.\" : round(result.diagn['condno'], 3), \n",
    "        \"Dub-Wat\": round(durbin_watson(result.wresid), 3),\n",
    "        \"Remarks\" : remark,\n",
    "    }\n",
    "    \n",
    "    result_sets.loc[len(result_sets)] = put\n",
    "\n",
    "result_sets = pd.DataFrame(\n",
    "    columns = [\"R-square\", \"AIC\", \"BIC\", \"Cond.No.\",\"Remarks\",\n",
    "                       \"Pb(Fstatics)\", \"Pb(omnibus)\", \"Pb(jb)\", \"Dub-Wat\"])   "
   ]
  },
  {
   "cell_type": "code",
   "execution_count": null,
   "metadata": {
    "collapsed": true
   },
   "outputs": [],
   "source": [
    "cv = KFold(n_splits=3, shuffle=True, random_state=0)\n",
    "for train_index, test_index in cv.split(taxi):\n",
    "    model =  sm.OLS.from_formula(\n",
    "        \"np.log(trip_duration) ~ scale(np.log(dist+1))\", data=taxi)\n",
    "    result = model.fit()\n",
    "    storage(result, \"test\")"
   ]
  },
  {
   "cell_type": "code",
   "execution_count": null,
   "metadata": {},
   "outputs": [],
   "source": [
    "result_sets"
   ]
  }
 ],
 "metadata": {
  "kernelspec": {
   "display_name": "Python 3",
   "language": "python",
   "name": "python3"
  },
  "language_info": {
   "codemirror_mode": {
    "name": "ipython",
    "version": 3
   },
   "file_extension": ".py",
   "mimetype": "text/x-python",
   "name": "python",
   "nbconvert_exporter": "python",
   "pygments_lexer": "ipython3",
   "version": "3.6.4"
  }
 },
 "nbformat": 4,
 "nbformat_minor": 2
}
