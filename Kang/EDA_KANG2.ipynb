{
 "cells": [
  {
   "cell_type": "code",
   "execution_count": 1,
   "metadata": {
    "collapsed": true
   },
   "outputs": [
    {
     "name": "stderr",
     "output_type": "stream",
     "text": [
      "C:\\Users\\ledes\\Anaconda3\\lib\\site-packages\\ipykernel_launcher.py:9: UserWarning: \n",
      "This call to matplotlib.use() has no effect because the backend has already\n",
      "been chosen; matplotlib.use() must be called *before* pylab, matplotlib.pyplot,\n",
      "or matplotlib.backends is imported for the first time.\n",
      "\n",
      "The backend was *originally* set to 'module://ipykernel.pylab.backend_inline' by the following code:\n",
      "  File \"C:\\Users\\ledes\\Anaconda3\\lib\\runpy.py\", line 193, in _run_module_as_main\n",
      "    \"__main__\", mod_spec)\n",
      "  File \"C:\\Users\\ledes\\Anaconda3\\lib\\runpy.py\", line 85, in _run_code\n",
      "    exec(code, run_globals)\n",
      "  File \"C:\\Users\\ledes\\Anaconda3\\lib\\site-packages\\ipykernel_launcher.py\", line 16, in <module>\n",
      "    app.launch_new_instance()\n",
      "  File \"C:\\Users\\ledes\\Anaconda3\\lib\\site-packages\\traitlets\\config\\application.py\", line 658, in launch_instance\n",
      "    app.start()\n",
      "  File \"C:\\Users\\ledes\\Anaconda3\\lib\\site-packages\\ipykernel\\kernelapp.py\", line 477, in start\n",
      "    ioloop.IOLoop.instance().start()\n",
      "  File \"C:\\Users\\ledes\\Anaconda3\\lib\\site-packages\\zmq\\eventloop\\ioloop.py\", line 177, in start\n",
      "    super(ZMQIOLoop, self).start()\n",
      "  File \"C:\\Users\\ledes\\Anaconda3\\lib\\site-packages\\tornado\\ioloop.py\", line 888, in start\n",
      "    handler_func(fd_obj, events)\n",
      "  File \"C:\\Users\\ledes\\Anaconda3\\lib\\site-packages\\tornado\\stack_context.py\", line 277, in null_wrapper\n",
      "    return fn(*args, **kwargs)\n",
      "  File \"C:\\Users\\ledes\\Anaconda3\\lib\\site-packages\\zmq\\eventloop\\zmqstream.py\", line 440, in _handle_events\n",
      "    self._handle_recv()\n",
      "  File \"C:\\Users\\ledes\\Anaconda3\\lib\\site-packages\\zmq\\eventloop\\zmqstream.py\", line 472, in _handle_recv\n",
      "    self._run_callback(callback, msg)\n",
      "  File \"C:\\Users\\ledes\\Anaconda3\\lib\\site-packages\\zmq\\eventloop\\zmqstream.py\", line 414, in _run_callback\n",
      "    callback(*args, **kwargs)\n",
      "  File \"C:\\Users\\ledes\\Anaconda3\\lib\\site-packages\\tornado\\stack_context.py\", line 277, in null_wrapper\n",
      "    return fn(*args, **kwargs)\n",
      "  File \"C:\\Users\\ledes\\Anaconda3\\lib\\site-packages\\ipykernel\\kernelbase.py\", line 283, in dispatcher\n",
      "    return self.dispatch_shell(stream, msg)\n",
      "  File \"C:\\Users\\ledes\\Anaconda3\\lib\\site-packages\\ipykernel\\kernelbase.py\", line 235, in dispatch_shell\n",
      "    handler(stream, idents, msg)\n",
      "  File \"C:\\Users\\ledes\\Anaconda3\\lib\\site-packages\\ipykernel\\kernelbase.py\", line 399, in execute_request\n",
      "    user_expressions, allow_stdin)\n",
      "  File \"C:\\Users\\ledes\\Anaconda3\\lib\\site-packages\\ipykernel\\ipkernel.py\", line 196, in do_execute\n",
      "    res = shell.run_cell(code, store_history=store_history, silent=silent)\n",
      "  File \"C:\\Users\\ledes\\Anaconda3\\lib\\site-packages\\ipykernel\\zmqshell.py\", line 533, in run_cell\n",
      "    return super(ZMQInteractiveShell, self).run_cell(*args, **kwargs)\n",
      "  File \"C:\\Users\\ledes\\Anaconda3\\lib\\site-packages\\IPython\\core\\interactiveshell.py\", line 2698, in run_cell\n",
      "    interactivity=interactivity, compiler=compiler, result=result)\n",
      "  File \"C:\\Users\\ledes\\Anaconda3\\lib\\site-packages\\IPython\\core\\interactiveshell.py\", line 2802, in run_ast_nodes\n",
      "    if self.run_code(code, result):\n",
      "  File \"C:\\Users\\ledes\\Anaconda3\\lib\\site-packages\\IPython\\core\\interactiveshell.py\", line 2862, in run_code\n",
      "    exec(code_obj, self.user_global_ns, self.user_ns)\n",
      "  File \"<ipython-input-1-a896c9ac3995>\", line 5, in <module>\n",
      "    import seaborn as sns\n",
      "  File \"C:\\Users\\ledes\\Anaconda3\\lib\\site-packages\\seaborn\\__init__.py\", line 6, in <module>\n",
      "    from .rcmod import *\n",
      "  File \"C:\\Users\\ledes\\Anaconda3\\lib\\site-packages\\seaborn\\rcmod.py\", line 8, in <module>\n",
      "    from . import palettes, _orig_rc_params\n",
      "  File \"C:\\Users\\ledes\\Anaconda3\\lib\\site-packages\\seaborn\\palettes.py\", line 12, in <module>\n",
      "    from .utils import desaturate, set_hls_values, get_color_cycle\n",
      "  File \"C:\\Users\\ledes\\Anaconda3\\lib\\site-packages\\seaborn\\utils.py\", line 11, in <module>\n",
      "    import matplotlib.pyplot as plt\n",
      "  File \"C:\\Users\\ledes\\Anaconda3\\lib\\site-packages\\matplotlib\\pyplot.py\", line 72, in <module>\n",
      "    from matplotlib.backends import pylab_setup\n",
      "  File \"C:\\Users\\ledes\\Anaconda3\\lib\\site-packages\\matplotlib\\backends\\__init__.py\", line 14, in <module>\n",
      "    line for line in traceback.format_stack()\n",
      "\n",
      "\n",
      "  if __name__ == '__main__':\n",
      "C:\\Users\\ledes\\Anaconda3\\lib\\site-packages\\ipykernel_launcher.py:18: UserWarning: \n",
      "This call to matplotlib.use() has no effect because the backend has already\n",
      "been chosen; matplotlib.use() must be called *before* pylab, matplotlib.pyplot,\n",
      "or matplotlib.backends is imported for the first time.\n",
      "\n",
      "The backend was *originally* set to 'module://ipykernel.pylab.backend_inline' by the following code:\n",
      "  File \"C:\\Users\\ledes\\Anaconda3\\lib\\runpy.py\", line 193, in _run_module_as_main\n",
      "    \"__main__\", mod_spec)\n",
      "  File \"C:\\Users\\ledes\\Anaconda3\\lib\\runpy.py\", line 85, in _run_code\n",
      "    exec(code, run_globals)\n",
      "  File \"C:\\Users\\ledes\\Anaconda3\\lib\\site-packages\\ipykernel_launcher.py\", line 16, in <module>\n",
      "    app.launch_new_instance()\n",
      "  File \"C:\\Users\\ledes\\Anaconda3\\lib\\site-packages\\traitlets\\config\\application.py\", line 658, in launch_instance\n",
      "    app.start()\n",
      "  File \"C:\\Users\\ledes\\Anaconda3\\lib\\site-packages\\ipykernel\\kernelapp.py\", line 477, in start\n",
      "    ioloop.IOLoop.instance().start()\n",
      "  File \"C:\\Users\\ledes\\Anaconda3\\lib\\site-packages\\zmq\\eventloop\\ioloop.py\", line 177, in start\n",
      "    super(ZMQIOLoop, self).start()\n",
      "  File \"C:\\Users\\ledes\\Anaconda3\\lib\\site-packages\\tornado\\ioloop.py\", line 888, in start\n",
      "    handler_func(fd_obj, events)\n",
      "  File \"C:\\Users\\ledes\\Anaconda3\\lib\\site-packages\\tornado\\stack_context.py\", line 277, in null_wrapper\n",
      "    return fn(*args, **kwargs)\n",
      "  File \"C:\\Users\\ledes\\Anaconda3\\lib\\site-packages\\zmq\\eventloop\\zmqstream.py\", line 440, in _handle_events\n",
      "    self._handle_recv()\n",
      "  File \"C:\\Users\\ledes\\Anaconda3\\lib\\site-packages\\zmq\\eventloop\\zmqstream.py\", line 472, in _handle_recv\n",
      "    self._run_callback(callback, msg)\n",
      "  File \"C:\\Users\\ledes\\Anaconda3\\lib\\site-packages\\zmq\\eventloop\\zmqstream.py\", line 414, in _run_callback\n",
      "    callback(*args, **kwargs)\n",
      "  File \"C:\\Users\\ledes\\Anaconda3\\lib\\site-packages\\tornado\\stack_context.py\", line 277, in null_wrapper\n",
      "    return fn(*args, **kwargs)\n",
      "  File \"C:\\Users\\ledes\\Anaconda3\\lib\\site-packages\\ipykernel\\kernelbase.py\", line 283, in dispatcher\n",
      "    return self.dispatch_shell(stream, msg)\n",
      "  File \"C:\\Users\\ledes\\Anaconda3\\lib\\site-packages\\ipykernel\\kernelbase.py\", line 235, in dispatch_shell\n",
      "    handler(stream, idents, msg)\n",
      "  File \"C:\\Users\\ledes\\Anaconda3\\lib\\site-packages\\ipykernel\\kernelbase.py\", line 399, in execute_request\n",
      "    user_expressions, allow_stdin)\n",
      "  File \"C:\\Users\\ledes\\Anaconda3\\lib\\site-packages\\ipykernel\\ipkernel.py\", line 196, in do_execute\n",
      "    res = shell.run_cell(code, store_history=store_history, silent=silent)\n",
      "  File \"C:\\Users\\ledes\\Anaconda3\\lib\\site-packages\\ipykernel\\zmqshell.py\", line 533, in run_cell\n",
      "    return super(ZMQInteractiveShell, self).run_cell(*args, **kwargs)\n",
      "  File \"C:\\Users\\ledes\\Anaconda3\\lib\\site-packages\\IPython\\core\\interactiveshell.py\", line 2698, in run_cell\n",
      "    interactivity=interactivity, compiler=compiler, result=result)\n",
      "  File \"C:\\Users\\ledes\\Anaconda3\\lib\\site-packages\\IPython\\core\\interactiveshell.py\", line 2802, in run_ast_nodes\n",
      "    if self.run_code(code, result):\n",
      "  File \"C:\\Users\\ledes\\Anaconda3\\lib\\site-packages\\IPython\\core\\interactiveshell.py\", line 2862, in run_code\n",
      "    exec(code_obj, self.user_global_ns, self.user_ns)\n",
      "  File \"<ipython-input-1-a896c9ac3995>\", line 5, in <module>\n",
      "    import seaborn as sns\n",
      "  File \"C:\\Users\\ledes\\Anaconda3\\lib\\site-packages\\seaborn\\__init__.py\", line 6, in <module>\n",
      "    from .rcmod import *\n",
      "  File \"C:\\Users\\ledes\\Anaconda3\\lib\\site-packages\\seaborn\\rcmod.py\", line 8, in <module>\n",
      "    from . import palettes, _orig_rc_params\n",
      "  File \"C:\\Users\\ledes\\Anaconda3\\lib\\site-packages\\seaborn\\palettes.py\", line 12, in <module>\n",
      "    from .utils import desaturate, set_hls_values, get_color_cycle\n",
      "  File \"C:\\Users\\ledes\\Anaconda3\\lib\\site-packages\\seaborn\\utils.py\", line 11, in <module>\n",
      "    import matplotlib.pyplot as plt\n",
      "  File \"C:\\Users\\ledes\\Anaconda3\\lib\\site-packages\\matplotlib\\pyplot.py\", line 72, in <module>\n",
      "    from matplotlib.backends import pylab_setup\n",
      "  File \"C:\\Users\\ledes\\Anaconda3\\lib\\site-packages\\matplotlib\\backends\\__init__.py\", line 14, in <module>\n",
      "    line for line in traceback.format_stack()\n",
      "\n",
      "\n"
     ]
    }
   ],
   "source": [
    "from ipyleaflet import * \n",
    "import time\n",
    "\n",
    "import pandas as pd\n",
    "import seaborn as sns\n",
    "import scipy as sp\n",
    "import sklearn as sk\n",
    "import matplotlib as mpl\n",
    "mpl.use('Agg')\n",
    "import matplotlib.pylab as plt\n",
    "from mpl_toolkits.mplot3d import Axes3D\n",
    "\n",
    "\n",
    "import numpy as np\n",
    "import scipy as sp\n",
    "import sklearn as sk\n",
    "\n",
    "mpl.use('Agg')\n",
    "\n",
    "%matplotlib inline\n",
    "\n",
    "sns.set()\n",
    "\n",
    "from dateutil import parser\n",
    "\n",
    "import folium\n",
    "\n",
    "train_raw = pd.read_csv(\"train.csv\", parse_dates = True)\n",
    "\n",
    "data = train_raw.copy()"
   ]
  },
  {
   "cell_type": "markdown",
   "metadata": {},
   "source": [
    "### 명확한 아웃라이어 제거(현실성 판단)\n",
    "1. trip_duration 기준  \n",
    "2. passenger_count 기준  \n",
    "3. lat, long 기준  "
   ]
  },
  {
   "cell_type": "markdown",
   "metadata": {},
   "source": [
    "#### 시각화를 통한 데이터 셋 확인"
   ]
  },
  {
   "cell_type": "code",
   "execution_count": null,
   "metadata": {},
   "outputs": [],
   "source": [
    "sns.boxplot(y = data[\"trip_duration\"], x = data[\"passenger_count\"], data = data)\n",
    "plt.show()"
   ]
  },
  {
   "cell_type": "code",
   "execution_count": 21,
   "metadata": {},
   "outputs": [
    {
     "name": "stdout",
     "output_type": "stream",
     "text": [
      "40.64355850219727 -73.7896499633789\n",
      "40.735252380371094 -73.92167663574219\n",
      "40.74232482910156 -73.9837875366211\n",
      "40.64863204956055 -73.78390502929686\n"
     ]
    },
    {
     "data": {
      "text/html": [
       "<div style=\"width:100%;\"><div style=\"position:relative;width:100%;height:0;padding-bottom:60%;\"><iframe src=\"data:text/html;charset=utf-8;base64,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\" style=\"position:absolute;width:100%;height:100%;left:0;top:0;border:none !important;\" allowfullscreen webkitallowfullscreen mozallowfullscreen></iframe></div></div>"
      ],
      "text/plain": [
       "<folium.folium.Map at 0x1ea27086748>"
      ]
     },
     "execution_count": 21,
     "metadata": {},
     "output_type": "execute_result"
    }
   ],
   "source": [
    "#trip_duration > 1500000 확인\n",
    "over_million = data[data[\"trip_duration\"] > 1500000]\n",
    "pick_lat, pick_long = over_million[\"pickup_latitude\"], over_million[\"pickup_longitude\"]\n",
    "drop_lat, drop_long = over_million[\"dropoff_latitude\"], over_million[\"dropoff_longitude\"]\n",
    "info = over_million[\"id\"]\n",
    "\n",
    "center = [40.745219,-73.9935417] # lat, long\n",
    "map_osm = folium.Map(location = center, zoom_start = 10, tiles = 'Stamen toner') # Stamen toner - 빠른 로딩 가능 \n",
    "map_osm\n",
    "\n",
    "for lat, long, info_ in zip(pick_lat, pick_long, info) :\n",
    "    print(lat, long)\n",
    "    folium.Marker([lat, long], popup = info_ , icon = folium.Icon(color = 'blue')).add_to(map_osm)\n",
    "for lat, long, info_ in zip(drop_lat, drop_long, info) :\n",
    "    folium.Marker([lat, long], popup = info_ , icon = folium.Icon(color = 'red')).add_to(map_osm)\n",
    "    \n",
    "map_osm"
   ]
  },
  {
   "cell_type": "markdown",
   "metadata": {},
   "source": [
    "4개의 데이터 승하차 지역 대비 이동시간이 너무 김 -> Human Error로 보이므로 제거"
   ]
  },
  {
   "cell_type": "code",
   "execution_count": null,
   "metadata": {},
   "outputs": [],
   "source": [
    "data = data[data[\"trip_duration\"] < 1500000].reset_index(drop = True)"
   ]
  },
  {
   "cell_type": "code",
   "execution_count": null,
   "metadata": {},
   "outputs": [],
   "source": [
    "#승객 수 0명 제거\n",
    "data = data[data[\"passenger_count\"] != 0 ]"
   ]
  },
  {
   "cell_type": "code",
   "execution_count": 35,
   "metadata": {
    "scrolled": true
   },
   "outputs": [
    {
     "data": {
      "text/html": [
       "<div>\n",
       "<style scoped>\n",
       "    .dataframe tbody tr th:only-of-type {\n",
       "        vertical-align: middle;\n",
       "    }\n",
       "\n",
       "    .dataframe tbody tr th {\n",
       "        vertical-align: top;\n",
       "    }\n",
       "\n",
       "    .dataframe thead th {\n",
       "        text-align: right;\n",
       "    }\n",
       "</style>\n",
       "<table border=\"1\" class=\"dataframe\">\n",
       "  <thead>\n",
       "    <tr style=\"text-align: right;\">\n",
       "      <th></th>\n",
       "      <th>id</th>\n",
       "      <th>vendor_id</th>\n",
       "      <th>pickup_datetime</th>\n",
       "      <th>dropoff_datetime</th>\n",
       "      <th>passenger_count</th>\n",
       "      <th>pickup_longitude</th>\n",
       "      <th>pickup_latitude</th>\n",
       "      <th>dropoff_longitude</th>\n",
       "      <th>dropoff_latitude</th>\n",
       "      <th>store_and_fwd_flag</th>\n",
       "      <th>trip_duration</th>\n",
       "    </tr>\n",
       "  </thead>\n",
       "  <tbody>\n",
       "    <tr>\n",
       "      <th>436047</th>\n",
       "      <td>id2489742</td>\n",
       "      <td>2</td>\n",
       "      <td>2016-06-24 08:09:21</td>\n",
       "      <td>2016-06-24 08:18:41</td>\n",
       "      <td>9</td>\n",
       "      <td>-73.710632</td>\n",
       "      <td>40.671581</td>\n",
       "      <td>-73.710632</td>\n",
       "      <td>40.671581</td>\n",
       "      <td>N</td>\n",
       "      <td>560</td>\n",
       "    </tr>\n",
       "    <tr>\n",
       "      <th>826064</th>\n",
       "      <td>id1488553</td>\n",
       "      <td>2</td>\n",
       "      <td>2016-01-01 01:15:20</td>\n",
       "      <td>2016-01-01 01:17:04</td>\n",
       "      <td>8</td>\n",
       "      <td>-73.992653</td>\n",
       "      <td>40.768719</td>\n",
       "      <td>-74.041374</td>\n",
       "      <td>40.729954</td>\n",
       "      <td>N</td>\n",
       "      <td>104</td>\n",
       "    </tr>\n",
       "  </tbody>\n",
       "</table>\n",
       "</div>"
      ],
      "text/plain": [
       "               id  vendor_id      pickup_datetime     dropoff_datetime  \\\n",
       "436047  id2489742          2  2016-06-24 08:09:21  2016-06-24 08:18:41   \n",
       "826064  id1488553          2  2016-01-01 01:15:20  2016-01-01 01:17:04   \n",
       "\n",
       "        passenger_count  pickup_longitude  pickup_latitude  dropoff_longitude  \\\n",
       "436047                9        -73.710632        40.671581         -73.710632   \n",
       "826064                8        -73.992653        40.768719         -74.041374   \n",
       "\n",
       "        dropoff_latitude store_and_fwd_flag  trip_duration  \n",
       "436047         40.671581                  N            560  \n",
       "826064         40.729954                  N            104  "
      ]
     },
     "execution_count": 35,
     "metadata": {},
     "output_type": "execute_result"
    }
   ],
   "source": [
    "#승객 수 7,8,9명 데이터 확인\n",
    "over_seven = data[(data.passenger_count >= 7) & (data.trip_duration > 60)]\n",
    "over_seven"
   ]
  },
  {
   "cell_type": "code",
   "execution_count": 39,
   "metadata": {
    "scrolled": true
   },
   "outputs": [
    {
     "data": {
      "text/html": [
       "<div style=\"width:100%;\"><div style=\"position:relative;width:100%;height:0;padding-bottom:60%;\"><iframe src=\"data:text/html;charset=utf-8;base64,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\" style=\"position:absolute;width:100%;height:100%;left:0;top:0;border:none !important;\" allowfullscreen webkitallowfullscreen mozallowfullscreen></iframe></div></div>"
      ],
      "text/plain": [
       "<folium.folium.Map at 0x1ea298d80b8>"
      ]
     },
     "execution_count": 39,
     "metadata": {},
     "output_type": "execute_result"
    }
   ],
   "source": [
    "#승객수 7,8,9 명 & 탑승시간 1분 미만 제거, 승하차 지점 확인\n",
    "over_seven = data[(data[\"passenger_count\"] >= 7 ) & (data[\"trip_duration\"] > 60)]\n",
    "pick_lat, pick_long = over_seven[\"pickup_latitude\"], over_seven[\"pickup_longitude\"]\n",
    "drop_lat, drop_long = over_seven[\"dropoff_latitude\"], over_seven[\"dropoff_longitude\"]\n",
    "info = over_seven[\"id\"]\n",
    "\n",
    "center = [40.745219,-73.9935417] # lat, long\n",
    "map2 = folium.Map(location = center, zoom_start = 10, tiles = 'Stamen toner') # Stamen toner - 빠른 로딩 가능 \n",
    "map2\n",
    "\n",
    "for lat, long, info_ in zip(pick_lat, pick_long, info) :\n",
    "    folium.Marker([lat, long], popup = info_ , icon = folium.Icon(color = 'blue')).add_to(map2)\n",
    "for lat, long, info_ in zip(drop_lat, drop_long, info) :\n",
    "    folium.Marker([lat, long], popup = info_ , icon = folium.Icon(color = 'red')).add_to(map2)\n",
    "    \n",
    "map2\n"
   ]
  },
  {
   "cell_type": "markdown",
   "metadata": {},
   "source": [
    "데이터 수가 적다고 해도, 일일히 확인하며 제거할 수는 없음  \n",
    "저녁 먹고 leverge 분석 공부할 것."
   ]
  }
 ],
 "metadata": {
  "kernelspec": {
   "display_name": "Python 3",
   "language": "python",
   "name": "python3"
  },
  "language_info": {
   "codemirror_mode": {
    "name": "ipython",
    "version": 3
   },
   "file_extension": ".py",
   "mimetype": "text/x-python",
   "name": "python",
   "nbconvert_exporter": "python",
   "pygments_lexer": "ipython3",
   "version": "3.6.3"
  }
 },
 "nbformat": 4,
 "nbformat_minor": 2
}
