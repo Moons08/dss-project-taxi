{
 "cells": [
  {
   "cell_type": "code",
   "execution_count": 1,
   "metadata": {},
   "outputs": [
    {
     "name": "stderr",
     "output_type": "stream",
     "text": [
      "C:\\Users\\ledes\\Anaconda3\\lib\\site-packages\\statsmodels\\compat\\pandas.py:56: FutureWarning: The pandas.core.datetools module is deprecated and will be removed in a future version. Please use the pandas.tseries module instead.\n",
      "  from pandas.core import datetools\n"
     ]
    }
   ],
   "source": [
    "import numpy as np\n",
    "import scipy as sp\n",
    "import sklearn as sk\n",
    "import matplotlib as mpl\n",
    "mpl.use('Agg')\n",
    "import matplotlib.pylab as plt\n",
    "from mpl_toolkits.mplot3d import Axes3D\n",
    "%matplotlib inline\n",
    "import seaborn as sns\n",
    "import statsmodels as sm\n",
    "import statsmodels.api as sm\n",
    "import pandas as pd\n",
    "from patsy import dmatrix"
   ]
  },
  {
   "cell_type": "code",
   "execution_count": 2,
   "metadata": {
    "collapsed": true
   },
   "outputs": [],
   "source": [
    "data = pd.read_csv(\"train.csv\")"
   ]
  },
  {
   "cell_type": "code",
   "execution_count": 3,
   "metadata": {
    "collapsed": true,
    "scrolled": true
   },
   "outputs": [],
   "source": [
    "#for문 진행 사항 확인(실제 사용은 하지 않음)\n",
    "from tqdm import tqdm_notebook\n",
    "#역지오코딩(위도, 경도를 주소로 전환)하기 위한 모듈 geopy 의 클래스 중 'nominatim'\n",
    "#Nominatim 사용 이유 : 개수 제한 문제를 해결할 수 있으므로\n",
    "from geopy.geocoders import Nominatim\n",
    "#역지오코딩 속도 개선을 위한 다중 쓰레드 사용\n",
    "import threading\n",
    "#지속적으로 많은 requests가 날아가면 \"too many requests\" 확인 -> 랜덤 시간 적용\n",
    "import random\n",
    "import time"
   ]
  },
  {
   "cell_type": "code",
   "execution_count": 4,
   "metadata": {
    "collapsed": true
   },
   "outputs": [],
   "source": [
    "#Nominatim 패키지 초기에 생긴 '접근 권한 없음' 에러 해결\n",
    "#에러의 원인은 모르나, 해당 함수를 사용하면 역지오코딩은 성공적으로 가능\n",
    "from geopy.geocoders import Nominatim\n",
    "from urllib.request import Request\n",
    "\n",
    "def get_geolocator():\n",
    "    geolocator = Nominatim()\n",
    "\n",
    "    requester = geolocator.urlopen\n",
    "\n",
    "    def requester_hack(req, **kwargs):\n",
    "        req = Request(url=req, headers=geolocator.headers)\n",
    "        return requester(req, **kwargs)\n",
    "\n",
    "    geolocator.urlopen = requester_hack\n",
    "\n",
    "    return geolocator"
   ]
  },
  {
   "cell_type": "code",
   "execution_count": 5,
   "metadata": {
    "collapsed": true
   },
   "outputs": [],
   "source": [
    "#raw dataset에서 위도 및 경도 데이터 출력\n",
    "pickup_lat = data[\"pickup_latitude\"]\n",
    "pickup_lon = data[\"pickup_longitude\"]    "
   ]
  },
  {
   "cell_type": "code",
   "execution_count": 6,
   "metadata": {
    "collapsed": true
   },
   "outputs": [],
   "source": [
    "#쓰레드 사용 시, 순서가 섞이지 않게 다수의 데이터 프레임 선언 - 추후 합칠 예정\n",
    "post_code = pd.DataFrame(columns = [\"post_code1\"])\n",
    "post_code2 = pd.DataFrame(columns = [\"post_code2\"])\n",
    "post_code3 = pd.DataFrame(columns = [\"post_code3\"])"
   ]
  },
  {
   "cell_type": "markdown",
   "metadata": {},
   "source": [
    "#### geopy package에 대한 설명은 구글에서 \"python geopy documentation\"을 통해 확인 가능"
   ]
  },
  {
   "cell_type": "code",
   "execution_count": 7,
   "metadata": {},
   "outputs": [],
   "source": [
    "def reverse_geocode() :\n",
    "    #오류 발생해도 계속 진행할 수 있게 try - except 구문 사용\n",
    "    try : \n",
    "    #위도와 경도를 zip함수로 각각 a,b에 담음\n",
    "        for a, b in list(zip(pickup_lat, pickup_lon))[ : 500000] :\n",
    "            #reverse method에 접근하여 location 반환\n",
    "            #reverse의 인자 중 time out을 설정하지 않으면 잦은 오류 발생\n",
    "            #확실하진 않지만, 좌표값이 주소로 변환이 진행되는 중에 또 다른 요청을 넣으면 오류가 발생하는 듯\n",
    "            #이를 해결하기 위해, selenium에서와 같이 데이터 처리가 진행되는 시간을 기다려주는 역할인 것 같다.\n",
    "\n",
    "            location = get_geolocator().reverse(str(a) + ',' + str(b), timeout = 10)\n",
    "            #location 중 address attribute에 접근하여 값 반환\n",
    "            address = location.address\n",
    "            post_code.loc[len(post_code)] = address[-31 : -26]\n",
    "            #data 개수가 많아 1000개마다 데이터 개수를 확인하며 프린트\n",
    "            if len(post_code) % 1000 == 0 :\n",
    "                print(\"1번 dataset : \", len(post_code))\n",
    "            n = random.randint(1, 3)\n",
    "            time.sleep(n)\n",
    "    except Exception as ex :\n",
    "        print(\"1번 dataset의\", len(post_code),\"번째에서 오류 발생 : \", ex)\n",
    "        pass\n",
    "    \n",
    "    \n",
    "#이하 2개는 threading을 위한 함수. 위의 함수와 구조 동일\n",
    "def reverse_geocode2() :\n",
    "    try : \n",
    "\n",
    "        for a, b in list(zip(pickup_lat, pickup_lon))[500000 : 1000000] :\n",
    "            location = get_geolocator().reverse(str(a) + ',' + str(b), timeout = 10)\n",
    "            address = location.address\n",
    "            post_code2.loc[len(post_code)] = address[-31 : -26]\n",
    "            if len(post_code2) % 1000 == 0 :\n",
    "                print(\"2번 dataset : \", len(post_code2))\n",
    "            n = random.randint(1, 3)\n",
    "            time.sleep(n)\n",
    "\n",
    "    except Exception as ex :\n",
    "        print(\"2번 dataset의\",len(post_code2),\"번째에서 오류 발생 : \", ex)\n",
    "        pass\n",
    "        \n",
    "        \n",
    "def reverse_geocode3() :\n",
    "    \n",
    "    try :\n",
    "    \n",
    "        for a, b in list(zip(pickup_lat, pickup_lon))[1000000 : ] :\n",
    "            location = get_geolocator().reverse(str(a) + ',' + str(b), timeout = 11)\n",
    "            address = location.address\n",
    "            post_code3.loc[len(post_code)] = address[-31 : -26]\n",
    "            if len(post_code3) % 1000 == 0 :\n",
    "                print(\"3번 dataset : \", len(post_code3))\n",
    "            n = random.randint(1, 3)\n",
    "            time.sleep(n)\n",
    "\n",
    "    \n",
    "    except Exception as ex :\n",
    "        print(\"3번 dataset의\",len(post_code3),\"번째에서 오류 발생 : \", ex)\n",
    "        pass\n",
    "        \n",
    "        \n",
    "        "
   ]
  },
  {
   "cell_type": "code",
   "execution_count": 8,
   "metadata": {},
   "outputs": [],
   "source": [
    "th1 = threading.Thread(target = reverse_geocode)\n",
    "#demon = False가 default인데, False일 경우 메인 쓰레드가 중단되어도 서브 쓰레드가 돌아감\n",
    "#True로 반환하여 3개의 쓰레드가 모두 동시에 중단될 수 있게 해놓음(오류 발생 시 유용)\n",
    "th1.demon  =True\n",
    "th1.start()\n",
    "\n",
    "th2 = threading.Thread(target = reverse_geocode2)\n",
    "th2.demon = True\n",
    "th2.start()\n",
    "\n",
    "th3 = threading.Thread(target = reverse_geocode3)\n",
    "th3.demon = True\n",
    "th3.start()\n"
   ]
  },
  {
   "cell_type": "code",
   "execution_count": 9,
   "metadata": {},
   "outputs": [
    {
     "name": "stdout",
     "output_type": "stream",
     "text": [
      "0\n",
      "2번 dataset의3번 dataset의1번 dataset의   000   번째에서 오류 발생 : 번째에서 오류 발생 : 번째에서 오류 발생 :    HTTP Error 429: Too Many RequestsHTTP Error 429: Too Many RequestsHTTP Error 429: Too Many Requests\n",
      "\n",
      "\n"
     ]
    }
   ],
   "source": [
    "print(len(post_code) + len(post_code2) + len(post_code3))"
   ]
  }
 ],
 "metadata": {
  "kernelspec": {
   "display_name": "Python 3",
   "language": "python",
   "name": "python3"
  },
  "language_info": {
   "codemirror_mode": {
    "name": "ipython",
    "version": 3
   },
   "file_extension": ".py",
   "mimetype": "text/x-python",
   "name": "python",
   "nbconvert_exporter": "python",
   "pygments_lexer": "ipython3",
   "version": "3.6.3"
  }
 },
 "nbformat": 4,
 "nbformat_minor": 2
}
