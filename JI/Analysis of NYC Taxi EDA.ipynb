{
 "cells": [
  {
   "cell_type": "markdown",
   "metadata": {},
   "source": [
    "### NYC Taxi EDA - Update: The fast & the curious"
   ]
  },
  {
   "cell_type": "markdown",
   "metadata": {},
   "source": [
    "[자료링크]<https://www.kaggle.com/headsortails/nyc-taxi-eda-update-the-fast-the-curious>"
   ]
  },
  {
   "cell_type": "markdown",
   "metadata": {},
   "source": [
    "#### 1. Introduction (도입부)"
   ]
  },
  {
   "cell_type": "markdown",
   "metadata": {},
   "source": [
    "- 사용한 라이브러리\n",
    "- 데이터 로드\n",
    "- 파일 구조와 내용 (4분위수, 평균, 표준편차 등등)"
   ]
  },
  {
   "cell_type": "markdown",
   "metadata": {},
   "source": [
    "- vendor_id는 1, 2밖에.. 다른 택시회사일 것으로 추정\n",
    "- 승객수는 1-9명\n",
    "- 위도 경도로 위치 파악\n",
    "- store_and_fwd_flag가 변수에 상관관계가 있을지\n",
    "- 결측치는 없음"
   ]
  },
  {
   "cell_type": "markdown",
   "metadata": {},
   "source": [
    "#### 2. Individual feature visualisations"
   ]
  },
  {
   "cell_type": "markdown",
   "metadata": {},
   "source": [
    "- 택시 타고 내리는것이 대부분이 맨하튼에서 발생함\n",
    "- 주목할만 곳은 John.F.Kennedy"
   ]
  },
  {
   "cell_type": "markdown",
   "metadata": {},
   "source": [
    "- 지도상 구간별 최대거리를 고려했을때 일반적으로 1,000초(약 16분)\n",
    "- 1000초 이상과 10초 미만의 자료들은 의심해야 함"
   ]
  },
  {
   "cell_type": "markdown",
   "metadata": {},
   "source": [
    "- 탑승 승객수가 7-9명은 불가능하지 않을까 (최대 6인승)\n",
    "- vendor1이 vendor2보다 매일 이용고객이 많았다\n",
    "- 아침엔 이용고객이 적고, 저녁에 많음"
   ]
  },
  {
   "cell_type": "markdown",
   "metadata": {},
   "source": [
    "- store_and_fwd_flag에서 N이 Y보다 월등히 많음\n",
    "- 1,6월에는 여행비율이 낮았고, 3,4월에는 비율이 높음"
   ]
  },
  {
   "cell_type": "markdown",
   "metadata": {},
   "source": [
    "#### 3. Feature relations"
   ]
  },
  {
   "cell_type": "markdown",
   "metadata": {},
   "source": [
    "실제 Trip duration과의 연관성을 파악"
   ]
  },
  {
   "cell_type": "markdown",
   "metadata": {},
   "source": [
    "- 요일별 평균 주행시간을 구함\n",
    "- 시간대별 평균 주행시간을 구함\n",
    "- 승객수별 평균 주행시간을 구함"
   ]
  },
  {
   "cell_type": "markdown",
   "metadata": {},
   "source": [
    "#### 4. Feature engineering"
   ]
  },
  {
   "cell_type": "markdown",
   "metadata": {},
   "source": [
    "- 여기있는 변수들 말고도 새로운 변수를 활용하고 싶다\n",
    "- pickup_datetime을 통해 날, 월, 요일, 시간등의 데이터를 추출\n",
    "- 위키디피아를 통해 JFK, La Guardia 공항 좌표 정보를 가져옴\n",
    "- 외부 날씨 데이터를 통해 눈보라 현상과 관련된 변수 생성"
   ]
  },
  {
   "cell_type": "markdown",
   "metadata": {},
   "source": [
    "- 승차, 하차간의 거리를 구하기 위해 distCosine함수를 이용함\n",
    "- 일반적으로 주행시간이 길수록 멀리간다\n",
    "- 속도를 변수에 포함시키기로 함 - 결측치를 제거하기 위함"
   ]
  },
  {
   "cell_type": "markdown",
   "metadata": {},
   "source": [
    "- 택시는 주말과 월요일에 더 빠르다\n",
    "- 이른 아침엔 빠르고 오전 8시에서 저녁 6시까지는 유사하게 느리다\n",
    "- 두 벤더간의 차이는 거의 없다\n",
    "- 월~금, 오전 6시부터 8시가 제일 속도가 느리다"
   ]
  },
  {
   "cell_type": "markdown",
   "metadata": {},
   "source": [
    "- 여행객들은 공항을 통해 입출입을 함\n",
    "- 공항과 중심지의 거리를 비교했을 때 비교적 먼거리를 여행할 것으로 예상"
   ]
  },
  {
   "cell_type": "markdown",
   "metadata": {},
   "source": [
    "#### 5. Data cleansing"
   ]
  },
  {
   "cell_type": "markdown",
   "metadata": {},
   "source": [
    "- duration : 22시간 이상인 데이터, 1분 이하인 데이터 제거\n",
    "- speed : 100km 이상인 데이터, trip_duration이 10초 미만인 데이터 제거\n",
    "- dist : 거리가 너무 먼 데이터 제거"
   ]
  }
 ],
 "metadata": {
  "kernelspec": {
   "display_name": "Python 3",
   "language": "python",
   "name": "python3"
  },
  "language_info": {
   "codemirror_mode": {
    "name": "ipython",
    "version": 3
   },
   "file_extension": ".py",
   "mimetype": "text/x-python",
   "name": "python",
   "nbconvert_exporter": "python",
   "pygments_lexer": "ipython3",
   "version": "3.6.4"
  }
 },
 "nbformat": 4,
 "nbformat_minor": 2
}
